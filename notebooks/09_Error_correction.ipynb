{
 "cells": [
  {
   "cell_type": "markdown",
   "metadata": {
    "collapsed": true
   },
   "source": [
    "# Error correction"
   ]
  },
  {
   "cell_type": "markdown",
   "metadata": {},
   "source": [
    "Firstly, we are interested in k-mer distribution. We want to count number of k-mers in our input set of reads. Write function *kmerHist* which recieves a list of reads and k-mer size and returns histogram: key-value pairs where key is k-mer and value is k-mer frequency in the input set (how many times does this k-mer appear).\n",
    "\n",
    "We do so by iterating through reads, partitioning every read on his k-mers and counting up the k-mers. For simplicity, we've used pythons [defaultdict](https://docs.python.org/2/library/collections.html#collections.defaultdict)."
   ]
  },
  {
   "cell_type": "code",
   "execution_count": null,
   "metadata": {
    "collapsed": true
   },
   "outputs": [],
   "source": [
    "from collections import defaultdict\n",
    "\n",
    "def kmerHist(reads, k):\n",
    "    # initializing histogram as defaultdict with setting default_factory to int, in order to count-up the k-mers\n",
    "    hist = defaultdict(int)\n",
    "    # going through every read\n",
    "    for read in reads:\n",
    "        # going through each position in the read (k-mer)\n",
    "        for i in range(len(read)-k+1):\n",
    "            # increasing value (frequency) for that k-mer\n",
    "            hist[read[i:i+k]]+=1 \n",
    "    return hist  "
   ]
  },
  {
   "cell_type": "code",
   "execution_count": 2,
   "metadata": {},
   "outputs": [
    {
     "data": {
      "text/plain": [
       "defaultdict(int,\n",
       "            {'AAA': 1,\n",
       "             'AAC': 1,\n",
       "             'ACA': 1,\n",
       "             'ACG': 2,\n",
       "             'CAA': 1,\n",
       "             'CAC': 1,\n",
       "             'CGC': 1,\n",
       "             'GCA': 1})"
      ]
     },
     "execution_count": 2,
     "metadata": {},
     "output_type": "execute_result"
    }
   ],
   "source": [
    "kmerHist(['ACACG', 'ACGCA', 'CAAAC'], 3)"
   ]
  },
  {
   "cell_type": "markdown",
   "metadata": {},
   "source": [
    "### Finding neighbouring k-mers"
   ]
  },
  {
   "cell_type": "markdown",
   "metadata": {},
   "source": [
    "For every k-mer we need to know his neigbouring k-mers. In our case, we define neighbouring k-mer as k-mer which has one different base (Hamming distance of 1). \n",
    "\n",
    "Write function that receives two arguments - k-mer and set of characters which can appear in k-mer (in our case, since we're doing these examples for DNA data, we can say it's ACTG). Function returns list of neighbouring k-mers. \n",
    "\n",
    "This list is made by adding to it k-mers made by substituting character on each of the positions in k-mer with other charcters from alphabet. In other words, we iterate through every position in k-mer. For each of the positions we replace current character with rest of the characters from alphabet. "
   ]
  },
  {
   "cell_type": "code",
   "execution_count": 3,
   "metadata": {
    "collapsed": true
   },
   "outputs": [],
   "source": [
    "def neighbour1mer(kmer, alphabet):\n",
    "    neighbours = []\n",
    "    # iterate though every position in k-mer\n",
    "    for i in range(len(kmer)-1, -1, -1): \n",
    "        # iterate through every character in alphabet\n",
    "        for a in alphabet:\n",
    "            # substitute character on given postion with each of the non-matching characters from alphabet\n",
    "            # add this k-mer to list of neigbouring k-mers\n",
    "            if a!=kmer[i]: neighbours.append(kmer[:i]+a+kmer[i+1:]) \n",
    "    return neighbours"
   ]
  },
  {
   "cell_type": "markdown",
   "metadata": {},
   "source": [
    "When generating neighbouring k-mers, we're iterating through every position in k-mer backwards (range(len(kmer)-1, -1, -1)). This is because we want to check these neighbours first, since we expect for error to be on this (end) position. This is because in the *errorCorrection* step we're iterating through every k-mer from the start to the end of the read, and error correcting it. In this case, since we've already potentially error corrected previous k-mers that means that first k-1 bases of our current k-mer have potentialy already been error corrected. We expect error to be most likely on the end of the k-mer, since this is the new information. This is why we first want to check neighbouring k-mers from the end of the k-mer and add them on beginning of the list."
   ]
  },
  {
   "cell_type": "code",
   "execution_count": 4,
   "metadata": {},
   "outputs": [
    {
     "data": {
      "text/plain": [
       "['CCA', 'CCT', 'CCG', 'CAC', 'CTC', 'CGC', 'ACC', 'TCC', 'GCC']"
      ]
     },
     "execution_count": 4,
     "metadata": {},
     "output_type": "execute_result"
    }
   ],
   "source": [
    "neighbour1mer('CCC', 'ACTG')"
   ]
  },
  {
   "cell_type": "code",
   "execution_count": 5,
   "metadata": {},
   "outputs": [
    {
     "data": {
      "text/plain": [
       "['CATCATCATCATCATCATCATCATCATCAT']"
      ]
     },
     "execution_count": 5,
     "metadata": {},
     "output_type": "execute_result"
    }
   ],
   "source": [
    "['CAT' * 10]"
   ]
  },
  {
   "cell_type": "code",
   "execution_count": 6,
   "metadata": {
    "collapsed": true
   },
   "outputs": [],
   "source": [
    "x=range(len('CCC')-1, -1, -1)"
   ]
  },
  {
   "cell_type": "code",
   "execution_count": 7,
   "metadata": {},
   "outputs": [
    {
     "data": {
      "text/plain": [
       "[2, 1, 0]"
      ]
     },
     "execution_count": 7,
     "metadata": {},
     "output_type": "execute_result"
    }
   ],
   "source": [
    "list(x)"
   ]
  },
  {
   "cell_type": "markdown",
   "metadata": {},
   "source": [
    "## Error Correct function"
   ]
  },
  {
   "cell_type": "markdown",
   "metadata": {},
   "source": [
    "Last, let's write *errorCorrect* function. It receives read, k-mer histogram, k-mer size, alphabet and frequency treshold. This function should check each k-mer in the read. If it's frequency is bellow the certain treshold it indicates this is an error and we should error correct it. We do error correction on this part of the read (k-mer) and return corrected read. \n",
    "\n",
    "If we detect that k-mer contains an error, we iterate through it's neigbouring k-mers. When we detect one of it's neighbours which is above the treshold, we error correct our kmer. That means that on this position in the read we replace our k-mer with it's neighbour. "
   ]
  },
  {
   "cell_type": "code",
   "execution_count": 8,
   "metadata": {
    "collapsed": true
   },
   "outputs": [],
   "source": [
    "def errorCorrect(read, hist, k, alphabet, treshold):\n",
    "    # go through every k-mer in read\n",
    "    for i in range(len(read)-k+1): \n",
    "        # check if it contains an error (infrequent k-mer)\n",
    "        if hist[read[i:i+k]]<treshold: \n",
    "            neigbours = neighbour1mer[read[i:i+k], alphabet]\n",
    "        # go through all neighbouring k-mers\n",
    "        for neighbour in neighbours:\n",
    "            # find a frequent neighbour\n",
    "            if hist[neighbour]>treshold:\n",
    "                # substitute the k-mer with the error corrected one;\n",
    "                read=read[:i]+neighbour+read[i+k:] \n",
    "                # and move to next k-mer\n",
    "                break\n",
    "    return read"
   ]
  },
  {
   "cell_type": "markdown",
   "metadata": {},
   "source": [
    "This is simplified version of error correction algorithm. In real case, we would for instance use a sequencing base quality (phred score) as an additional indicator. For instance, if base quality is high, it means that this might not be an error, while if it's low, it can be additional confirmation that this is an error.\n",
    "\n",
    "Secondly, in curent implementation, we create neighbours for every position in the k-mer. We should have been more carefull with this, since corecting any of the first k-1 positions in k-mer will affect previous k-1 k-mers in the read. This is also why in *neighbour1mer* we first check neighbouring k-mer from end positions (and return these k-mers on beginning of the list), becuase when substituting the current k-mer with these, we won't disrupt the previous k-1 kmers."
   ]
  },
  {
   "cell_type": "code",
   "execution_count": null,
   "metadata": {
    "collapsed": true
   },
   "outputs": [],
   "source": []
  }
 ],
 "metadata": {
  "kernelspec": {
   "display_name": "Python 3",
   "language": "python",
   "name": "python3"
  },
  "language_info": {
   "codemirror_mode": {
    "name": "ipython",
    "version": 3
   },
   "file_extension": ".py",
   "mimetype": "text/x-python",
   "name": "python",
   "nbconvert_exporter": "python",
   "pygments_lexer": "ipython3",
   "version": "3.6.1"
  }
 },
 "nbformat": 4,
 "nbformat_minor": 2
}
