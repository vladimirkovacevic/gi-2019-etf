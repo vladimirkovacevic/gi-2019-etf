{
 "cells": [
  {
   "cell_type": "markdown",
   "metadata": {},
   "source": [
    "## Naive overlap (basic approach)"
   ]
  },
  {
   "cell_type": "markdown",
   "metadata": {},
   "source": [
    "We want to implement naive approach in finding longest overlap between two strings. We've defined minimum overlap length, but we're interested in overlaps greather than (or equal) given length. \n",
    "\n",
    "As shown in the lecture slides one way would be taking minimal prefix of the second string, and searching for it in the first string (from left to right). Logic behind this is that longer the overlap, (minimal) prefix of the second string will be more to the left in the first string.\n",
    "\n",
    "For ilustration, compare these two cases, where *minimum overlap length = 3*:\n",
    "\n",
    "  X: ACC**TAGCA**   vs    X:  CCCGG**TAG**\n",
    "\n",
    "  Y: **TAGCA**TGA   vs      Y: **TAG**AATGC\n",
    "  \n",
    "   \n",
    "We can see that in the left (first) case, where we have a longer matching prefix, TAG is more to the left in first string then in case where TAG is beggining of the shorter prefix. \n",
    "\n",
    "We exploit this by checking from left to right in the first string for occurence of this minimal prefix. After we find it, instead of doing extension case-by-case in both of the strings, we check if suffix of the first string starting with this occurence is prefix of the second string. If answer if yes, this means we've found the longest prefix. If answer is no, we search (to the right) for the next occurence of minimal prefix in the first string. If we don't find any suffix of the first string (starting with minimal prefix of the second string), which is the prefix of the second string, this means that overlap of the two strings is not-existent for given conditions. "
   ]
  },
  {
   "cell_type": "code",
   "execution_count": 1,
   "metadata": {
    "collapsed": true
   },
   "outputs": [],
   "source": [
    "def overlap(a,b, min_length=3):\n",
    "    \"return length of longest suffix of a >= than min overlap\"\n",
    "    \"matching a prefix of B\"\n",
    "    start = 0 # setting the initial offset for b\n",
    "    while True:\n",
    "        start=a.find(b[:min_length], start) # is there occurence of prefix of b in a, given the offset\n",
    "        if start == -1:  # if no, exit, this implies no overlap\n",
    "            return 0\n",
    "        if b.startswith(a[start:]): #if ocurence is found, check if this suffix of b is also prefix of a\n",
    "            return len(a)-start\n",
    "        start+=1  # increase offset "
   ]
  },
  {
   "cell_type": "code",
   "execution_count": 2,
   "metadata": {},
   "outputs": [
    {
     "data": {
      "text/plain": [
       "2"
      ]
     },
     "execution_count": 2,
     "metadata": {},
     "output_type": "execute_result"
    }
   ],
   "source": [
    "overlap('abcdefcd','cd',2)"
   ]
  },
  {
   "cell_type": "code",
   "execution_count": 3,
   "metadata": {},
   "outputs": [
    {
     "data": {
      "text/plain": [
       "2"
      ]
     },
     "execution_count": 3,
     "metadata": {},
     "output_type": "execute_result"
    }
   ],
   "source": [
    "overlap('abcdefcd','cd',2)"
   ]
  },
  {
   "cell_type": "markdown",
   "metadata": {},
   "source": [
    "## Shortest common superstring"
   ]
  },
  {
   "cell_type": "markdown",
   "metadata": {},
   "source": [
    "As explained in *Gusfield 16.17.2.* we can define objective function for shortest common superstring of a set of reads by using permutations.\n",
    "\n",
    "\n",
    "*Throughout the dicussion of superstring, we assume that no string in input set is substring of another (input) string.* Any such substring can easily be detected and removed. It's evident that even after removing such substrings, superstring of the remaining set is also superstring of the original set.  \n",
    "\n",
    "\n",
    "First let's define S(L), which represents concatenation of non-overlaping prefixes.\n",
    "\n",
    "> *S(L) = pref(So1, So2)pref(So2, So3)...pref(Sot-1, Sot)Sot*\n",
    "\n",
    "where Soi represents reads (strings) and *pref(Soi,Soj)* is the prefix of Soi ending of the start of longest overlap of Soi, Soj.\n",
    "\n",
    "Or we can define it by using overlap suffix:\n",
    "> *S(L) = So1 suf(So1, So2) suf(So2, So3) suf(So3, So4)...suf(Sot-1, Sot)\n",
    "\n",
    "Then S(L) is the common superstring (not necessarily shortest) of strings So1, So2, ..., Sot.\n",
    "\n",
    "\n",
    "We can define S(L) as one of the permutations of input strings where we merge all overlaps. Then, we can define SCS as the permutation of inputs strings that yields the shortest SCS (more in *Gusfiled 16.17.2*). This would be our objective function then - permutation that *minimizes* SCS length. Or in other terms - it can be defined as a permutation *maximizing* overlap between neighbouring strings (in permutation)."
   ]
  },
  {
   "cell_type": "markdown",
   "metadata": {},
   "source": [
    "We can implement this as a function that receives a list of strings (reads) and goes through all possible permutations of input strings. For each permutation, it concatenates the neighbouring strings in permutation by finding the maximum overlap between the strings. The permutation yielding shortest supertring gives us the *shortest common supertring*. We've implemented this by using overlap suffix (instead of prefix) since it's more convenient that way.\n",
    "\n",
    "Function receives a list of strings (reads) and returns the shortest common superstring. As mentioned above, we assume that no string is substring of another string in our input dataset."
   ]
  },
  {
   "cell_type": "code",
   "execution_count": 4,
   "metadata": {
    "collapsed": true
   },
   "outputs": [],
   "source": [
    "import itertools\n",
    "\n",
    "def scs(ss):\n",
    "    \"\"\" Returns shortest common superstring of given strings,\n",
    "        assuming no string is a strict substring of another \"\"\"\n",
    "    shortest_sup = None\n",
    "    # iterate through all possible permutations\n",
    "    for ssperm in itertools.permutations(ss):\n",
    "        sup = ssperm[0]\n",
    "        # iterating though each permutation and appending overlap suffix\n",
    "        for i in range(len(ss)-1):\n",
    "            olen = overlap(ssperm[i], ssperm[i+1], min_length=1)\n",
    "            sup += ssperm[i+1][olen:]\n",
    "        # checking if this is minimal superstring\n",
    "        if shortest_sup is None or len(sup) < len(shortest_sup):\n",
    "            shortest_sup = sup\n",
    "    return shortest_sup"
   ]
  },
  {
   "cell_type": "code",
   "execution_count": 5,
   "metadata": {
    "collapsed": true
   },
   "outputs": [],
   "source": [
    "reads = ['ACTGCCC', 'CCCCATG', 'GTTGTGT', 'CGTCGG', 'GTCAC']"
   ]
  },
  {
   "cell_type": "code",
   "execution_count": 6,
   "metadata": {},
   "outputs": [
    {
     "name": "stdout",
     "output_type": "stream",
     "text": [
      "1000 loops, best of 3: 872 µs per loop\n"
     ]
    }
   ],
   "source": [
    "%%timeit\n",
    "sup=scs(reads)"
   ]
  },
  {
   "cell_type": "code",
   "execution_count": 7,
   "metadata": {},
   "outputs": [
    {
     "name": "stdout",
     "output_type": "stream",
     "text": [
      "SCS is CGTCGGTTGTGTCACTGCCCCATG with length 24\n"
     ]
    }
   ],
   "source": [
    "sup=scs(reads)\n",
    "print('SCS is %s with length %d'% (sup, len(sup)))"
   ]
  },
  {
   "cell_type": "markdown",
   "metadata": {},
   "source": [
    "## Greedy approach to SCS"
   ]
  },
  {
   "cell_type": "markdown",
   "metadata": {},
   "source": [
    "Now, let's see the greedy approach! First we'll define function that always greedily choses maximum overlap. It takes a set of reads and a minimum overlap length and returns the two reads which have maximum overlap, and their overlap.\n",
    "\n",
    "To do so, we create all variations of two (two-permutations) of input set of strings. We'll iterate through these variations and return the one which has two strings that give the largest overlap. "
   ]
  },
  {
   "cell_type": "code",
   "execution_count": 8,
   "metadata": {
    "collapsed": true
   },
   "outputs": [],
   "source": [
    "def pick_maximum_overlap(reads, min_overlap = 3):\n",
    "    best_overlap =0\n",
    "    first = None\n",
    "    second = None\n",
    "    for a,b in itertools.permutations(reads,2):\n",
    "        ovlp_length = overlap(a,b)\n",
    "        if ovlp_length > best_overlap:\n",
    "            best_overlap = ovlp_length\n",
    "            first = a\n",
    "            second = b\n",
    "    return best_overlap, first, second"
   ]
  },
  {
   "cell_type": "markdown",
   "metadata": {},
   "source": [
    "Next, by using previously defined function, we'll create a greedy SCS function. It should receive a list of strings and returns (greedily chosen) SCS.\n",
    "\n",
    "In each loop iteration we remove two reads that we've already merged and add newly created read (by merging these two) to the set of reads. Then, we pick maximum overlap from our newly created set and repeat the process until there are no more overlapping reads.\n"
   ]
  },
  {
   "cell_type": "code",
   "execution_count": 9,
   "metadata": {
    "collapsed": true
   },
   "outputs": [],
   "source": [
    "def greedy_scs(reads, min_overlap = 3):\n",
    "    overlap, read1, read2 = pick_maximum_overlap(reads)\n",
    "    # in each loop we remove merged reads, and add newly created read to the set\n",
    "    while overlap > 0:\n",
    "        reads.remove(read1)\n",
    "        reads.remove(read2)\n",
    "        reads.append(read1+read2[overlap:])\n",
    "        overlap, read1, read2 = pick_maximum_overlap(reads)\n",
    "    return ''.join(reads)"
   ]
  },
  {
   "cell_type": "code",
   "execution_count": 10,
   "metadata": {
    "scrolled": true
   },
   "outputs": [
    {
     "name": "stdout",
     "output_type": "stream",
     "text": [
      "The slowest run took 4.90 times longer than the fastest. This could mean that an intermediate result is being cached.\n",
      "100000 loops, best of 3: 8.18 µs per loop\n"
     ]
    }
   ],
   "source": [
    "%%timeit\n",
    "greedy_scs(reads)"
   ]
  },
  {
   "cell_type": "code",
   "execution_count": 11,
   "metadata": {},
   "outputs": [
    {
     "name": "stdout",
     "output_type": "stream",
     "text": [
      "Greedy SCS is GTTGTGTCGTCGGGTCACACTGCCCCATG with length 29\n"
     ]
    }
   ],
   "source": [
    "sup=greedy_scs(reads)\n",
    "print('Greedy SCS is %s with length %d'% (sup, len(sup)))"
   ]
  },
  {
   "cell_type": "code",
   "execution_count": null,
   "metadata": {
    "collapsed": true
   },
   "outputs": [],
   "source": []
  }
 ],
 "metadata": {
  "kernelspec": {
   "display_name": "Python 3",
   "language": "python",
   "name": "python3"
  },
  "language_info": {
   "codemirror_mode": {
    "name": "ipython",
    "version": 3
   },
   "file_extension": ".py",
   "mimetype": "text/x-python",
   "name": "python",
   "nbconvert_exporter": "python",
   "pygments_lexer": "ipython3",
   "version": "3.6.1"
  }
 },
 "nbformat": 4,
 "nbformat_minor": 2
}
