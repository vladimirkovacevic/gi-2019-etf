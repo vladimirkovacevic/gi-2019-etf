{
 "cells": [
  {
   "cell_type": "markdown",
   "metadata": {},
   "source": [
    "# Data structures"
   ]
  },
  {
   "cell_type": "markdown",
   "metadata": {},
   "source": [
    "<h1 id=\"toctitle\">Contents</h1>\n",
    "<ul id=\"toc\"/>"
   ]
  },
  {
   "cell_type": "markdown",
   "metadata": {},
   "source": [
    "## Basic collection types\n",
    "\n",
    "### Lists\n",
    "\n",
    "What do we already know about data structures?\n",
    "\n",
    "lists store collections of elements"
   ]
  },
  {
   "cell_type": "code",
   "execution_count": null,
   "metadata": {},
   "outputs": [],
   "source": [
    "l = [1,2,3]\n",
    "print l[1] \n",
    "for e in l:\n",
    "    print(e+1) "
   ]
  },
  {
   "cell_type": "markdown",
   "metadata": {},
   "source": [
    "### Dicts\n",
    "dicts store pairs of values as items for rapid lookup (has embedded hash table):"
   ]
  },
  {
   "cell_type": "code",
   "execution_count": null,
   "metadata": {},
   "outputs": [],
   "source": [
    "enzymes = { \n",
    "'EcoRI' : 'GAATTC',\n",
    "'AvaII' : 'GGACC',\n",
    "'BisI' : 'GCNGC' \n",
    "}\n",
    "\n",
    "enzymes['AvaII']"
   ]
  },
  {
   "cell_type": "markdown",
   "metadata": {},
   "source": [
    "### Tuples\n",
    "\n",
    "Tuples appear to be similar to lists:"
   ]
  },
  {
   "cell_type": "code",
   "execution_count": null,
   "metadata": {},
   "outputs": [],
   "source": [
    "t = (4, 5, 6)\n",
    "print(t[1])\n",
    "for e in t:\n",
    "    print(e+1) "
   ]
  },
  {
   "cell_type": "markdown",
   "metadata": {},
   "source": [
    "until we try to change one of the values:"
   ]
  },
  {
   "cell_type": "code",
   "execution_count": null,
   "metadata": {},
   "outputs": [],
   "source": [
    "t[1] = 9"
   ]
  },
  {
   "cell_type": "markdown",
   "metadata": {},
   "source": [
    "#### Tuples are immutable; they cannot be changed once created\n",
    "\n",
    "This lets Python make some time/memory optimizations.\n",
    "\n",
    "Tuples are useful for storing heterogenous data (think records / rows from a table / simple objects):"
   ]
  },
  {
   "cell_type": "code",
   "execution_count": null,
   "metadata": {},
   "outputs": [],
   "source": [
    "t1 = ('actgctagt', 'ABC123', 1)\n",
    "t2 = ('ttaggttta', 'XYZ456', 1)\n",
    "t3 = ('cgcgatcgt', 'HIJ789', 5)"
   ]
  },
  {
   "cell_type": "markdown",
   "metadata": {},
   "source": [
    "### Sets\n",
    "\n",
    "{1,2,3,4,6}\n",
    "\n",
    "Sets are like lists but with\n",
    "- no order, and\n",
    "- fast lookup\n",
    "\n",
    "Set is an unordered collection of unique items. Set is defined by values separated by comma inside braces { }. Items in a set are not ordered.\n",
    "\n",
    "Hence the slicing operator [ ] does not work."
   ]
  },
  {
   "cell_type": "code",
   "execution_count": null,
   "metadata": {},
   "outputs": [],
   "source": [
    "a = {'apple', 'pear', 'banana'}\n",
    "b = {'apple', 'pear', 'banana', 'apple'}\n",
    "a==b"
   ]
  },
  {
   "cell_type": "markdown",
   "metadata": {},
   "source": [
    "Think of sets as either like\n",
    "- unordered lists with rapid lookup, or\n",
    "- dicts without values"
   ]
  },
  {
   "cell_type": "markdown",
   "metadata": {},
   "source": [
    "## A closer look at lists\n",
    "\n",
    "Hopefully we are all familiar with the idea of lists of numbers and strings:"
   ]
  },
  {
   "cell_type": "code",
   "execution_count": null,
   "metadata": {},
   "outputs": [],
   "source": [
    "[1,2,3,4]\n",
    "['a', 'b', 'c']"
   ]
  },
  {
   "cell_type": "markdown",
   "metadata": {},
   "source": [
    "A slightly more exotic idea: we can have lists of `File` objects:"
   ]
  },
  {
   "cell_type": "code",
   "execution_count": null,
   "metadata": {},
   "outputs": [],
   "source": [
    "files = [open(\"blast_result.txt\"), open(\"sequences.fasta\")]\n",
    "files\n"
   ]
  },
  {
   "cell_type": "code",
   "execution_count": null,
   "metadata": {},
   "outputs": [],
   "source": [
    "['5' * 5]"
   ]
  },
  {
   "cell_type": "markdown",
   "metadata": {},
   "source": [
    "\n",
    "\n",
    "If we create a list where each element is also a list, we have a two-dimensional list or list-of-lists:"
   ]
  },
  {
   "cell_type": "code",
   "execution_count": null,
   "metadata": {},
   "outputs": [],
   "source": [
    "list_of_lists = [[1,2,3],[4,5,6],[7,8,9]]\n",
    "list_of_lists"
   ]
  },
  {
   "cell_type": "markdown",
   "metadata": {},
   "source": [
    "More readably:"
   ]
  },
  {
   "cell_type": "code",
   "execution_count": null,
   "metadata": {},
   "outputs": [],
   "source": [
    "list_of_lists = [[1,2,3],\n",
    "                 [4,5,6],\n",
    "                 [7,8,9]]"
   ]
  },
  {
   "cell_type": "markdown",
   "metadata": {},
   "source": [
    "Each element is just a normal list:"
   ]
  },
  {
   "cell_type": "code",
   "execution_count": null,
   "metadata": {},
   "outputs": [],
   "source": [
    "list_of_lists[1]"
   ]
  },
  {
   "cell_type": "markdown",
   "metadata": {},
   "source": [
    "and we can use two brackets to address one of the inner elements:"
   ]
  },
  {
   "cell_type": "code",
   "execution_count": null,
   "metadata": {},
   "outputs": [],
   "source": [
    "list_of_lists[1][2]"
   ]
  },
  {
   "cell_type": "markdown",
   "metadata": {},
   "source": [
    "Where might this be useful? Imagine storing a multiple sequence alignment:"
   ]
  },
  {
   "cell_type": "code",
   "execution_count": null,
   "metadata": {},
   "outputs": [],
   "source": [
    "aln = [['A', 'T', '-', 'T', 'G'], \n",
    "       ['A', 'A', 'T', 'A', 'G'], \n",
    "       ['T', '-', 'T', 'T', 'G'], \n",
    "       ['A', 'A', '-', 'T', 'A']]  "
   ]
  },
  {
   "cell_type": "markdown",
   "metadata": {},
   "source": [
    "We could get a single aligned sequence"
   ]
  },
  {
   "cell_type": "code",
   "execution_count": null,
   "metadata": {},
   "outputs": [],
   "source": [
    "aln[2]"
   ]
  },
  {
   "cell_type": "markdown",
   "metadata": {},
   "source": [
    "or a single column (don't worry about list comprehension if you haven't seen them yet):"
   ]
  },
  {
   "cell_type": "code",
   "execution_count": null,
   "metadata": {},
   "outputs": [],
   "source": [
    "#get the fourth column\n",
    "[seq[3] for seq in aln]"
   ]
  },
  {
   "cell_type": "markdown",
   "metadata": {},
   "source": [
    "We can initialize the list of lists in two ways:"
   ]
  },
  {
   "cell_type": "code",
   "execution_count": null,
   "metadata": {},
   "outputs": [],
   "source": [
    "a = [[0, 0], [0, 0]]\n",
    "print(a)\n",
    "b = [[0] * 2] * 2\n",
    "print(b)\n"
   ]
  },
  {
   "cell_type": "code",
   "execution_count": null,
   "metadata": {
    "scrolled": true
   },
   "outputs": [],
   "source": [
    "a[0][0] = 1\n",
    "print(a)\n",
    "b[0][0] = 1\n",
    "print(b)"
   ]
  },
  {
   "cell_type": "markdown",
   "metadata": {},
   "source": [
    "What happened?"
   ]
  },
  {
   "cell_type": "markdown",
   "metadata": {},
   "source": [
    "### Lists of dicts and tuples\n",
    "\n",
    "We can build lists of other things too. Imagine we have a collection of DNA sequence records. We could store this a list of dicts:"
   ]
  },
  {
   "cell_type": "code",
   "execution_count": null,
   "metadata": {},
   "outputs": [],
   "source": [
    "# a list of dicts\n",
    "records = [\n",
    "    {'seq' : 'actgctagt', 'accession' : 'ABC123', 'genetic_code' : 1},\n",
    "    {'seq' : 'ttaggttta', 'accession' : 'XYZ456', 'genetic_code' : 1},\n",
    "    {'seq' : 'cgcgatcgt', 'accession' : 'HIJ789', 'genetic_code' : 5}\n",
    "]\n",
    "\n",
    "for record in records:\n",
    "    print('accession number : ' + record['accession'])\n",
    "    print('genetic code: ' + str(record['genetic_code'])) "
   ]
  },
  {
   "cell_type": "markdown",
   "metadata": {},
   "source": [
    "## A taxonomy of data structures\n",
    "\n",
    "We have looked at\n",
    "- lists of lists\n",
    "- lists of dicts\n",
    "\n",
    "It's also possible to build lists of sets. \n",
    "\n",
    "How about other data structures?\n",
    "\n",
    "#### Sets\n",
    "\n",
    "Elements in sets have to be immutable (so they can be hashed) so we can't build\n",
    "- sets of lists\n",
    "- sets of dicts\n",
    "- sets of sets\n",
    "\n",
    "we can build sets of tuples (though I'm not sure why).\n",
    "\n",
    "#### Tuples\n",
    "\n",
    "We can build tuples where the individual elements are lists/sets/dicts/tuples, but they tend not to be very useful.\n",
    "\n",
    "## Fun with Dicts\n",
    "\n",
    "Dicts of things turn out to be **very** useful. They allow us to \n",
    "- attach names to other data structures, and\n",
    "- rapidly look up other data structures using those names.\n",
    "\n",
    "### Dicts of sets \n",
    "Imagine we have run a gene expression experiment in which we subject some cells to various metal elements and record which genes are overexpressed in response. The data might look like this:"
   ]
  },
  {
   "cell_type": "code",
   "execution_count": null,
   "metadata": {},
   "outputs": [],
   "source": [
    "gene_sets = {\n",
    "    'arsenic' : {1,2,3,4,5,6,8,12},\n",
    "    'cadmium' : {2,12,6,4},\n",
    "    'copper' : {7,6,10,4,8},\n",
    "    'mercury' : {3,2,4,5,1}\n",
    "}\n",
    "gene_sets['copper']\n",
    "\n",
    "\n"
   ]
  },
  {
   "cell_type": "markdown",
   "metadata": {},
   "source": [
    "This data structure leverages the features of dicts (rapidly look up a gene set from the metal name) and sets (rapidly check membership). E.g. is gene number 3 over-expressed in response to arsenic?"
   ]
  },
  {
   "cell_type": "code",
   "execution_count": null,
   "metadata": {},
   "outputs": [],
   "source": [
    "3 in gene_sets['arsenic']"
   ]
  },
  {
   "cell_type": "markdown",
   "metadata": {},
   "source": [
    "Which conditions is gene 5 over-expressed in response to?"
   ]
  },
  {
   "cell_type": "code",
   "execution_count": null,
   "metadata": {},
   "outputs": [],
   "source": [
    "for metal, genes in gene_sets.items(): \n",
    "    if 5 in genes: \n",
    "        print(metal)"
   ]
  },
  {
   "cell_type": "markdown",
   "metadata": {},
   "source": [
    "Or even more concisely (wait for comprehensions....):"
   ]
  },
  {
   "cell_type": "code",
   "execution_count": null,
   "metadata": {},
   "outputs": [],
   "source": [
    "[metal for metal, genes in gene_sets.items() if 5 in genes]"
   ]
  },
  {
   "cell_type": "markdown",
   "metadata": {},
   "source": [
    "Now, a more interesting question: are there any conditions whose genes are a subset of another condition's genes? "
   ]
  },
  {
   "cell_type": "code",
   "execution_count": null,
   "metadata": {},
   "outputs": [],
   "source": [
    "for condition1,set1 in gene_sets.items(): \n",
    "     for condition2,set2 in gene_sets.items():\n",
    "            if set1.issubset(set2) and condition1 != condition2: \n",
    "                print(condition1 + ' is a subset of ' + condition2)  "
   ]
  },
  {
   "cell_type": "markdown",
   "metadata": {},
   "source": [
    "Notice how we use the features of both dicts (to get hold of the condition names) and sets (using the `issubset()` method).\n",
    "\n",
    "### List of tuples\n",
    "\n",
    "Remember our list of tuples for storing DNA sequence records:"
   ]
  },
  {
   "cell_type": "code",
   "execution_count": null,
   "metadata": {},
   "outputs": [],
   "source": [
    "records = [\n",
    "    ('actgctagt', 'ABC123', 1),\n",
    "    ('ttaggttta', 'XYZ456', 1),\n",
    "    ('cgcgatcgt', 'HIJ789', 5)\n",
    "]"
   ]
  },
  {
   "cell_type": "markdown",
   "metadata": {},
   "source": [
    "This is great for iterating over all records:"
   ]
  },
  {
   "cell_type": "code",
   "execution_count": null,
   "metadata": {},
   "outputs": [],
   "source": [
    "for record in records:\n",
    "    (sequence, accession, code) = record\n",
    "    print(\"looking at record \" + accession + \" with genetic code \" + str(code))\n",
    "    # do something with the record"
   ]
  },
  {
   "cell_type": "markdown",
   "metadata": {},
   "source": [
    "but not great for finding a specific record:"
   ]
  },
  {
   "cell_type": "code",
   "execution_count": null,
   "metadata": {},
   "outputs": [],
   "source": [
    "for record in records:\n",
    "    if record[1] == 'XYZ456':\n",
    "        print(\"Found it!\")\n",
    "        (sequence, accession, code) = record\n",
    "        # do something with the record"
   ]
  },
  {
   "cell_type": "markdown",
   "metadata": {},
   "source": [
    "### Dict of tuples\n",
    "Here's the same data as a dict of tuples. We turn the accession into the key:"
   ]
  },
  {
   "cell_type": "code",
   "execution_count": null,
   "metadata": {},
   "outputs": [],
   "source": [
    "records = {\n",
    "    'ABC123' : ('actgctagt', 1),\n",
    "    'XYZ456' : ('ttaggttta', 1),\n",
    "    'HIJ789' : ('cgcgatcgt', 5)\n",
    "}"
   ]
  },
  {
   "cell_type": "code",
   "execution_count": null,
   "metadata": {},
   "outputs": [],
   "source": [
    "for key, val in records.items():\n",
    "    if key == 'XYZ456':\n",
    "        print(\"Found it!\")\n",
    "        # do something with the val"
   ]
  },
  {
   "cell_type": "markdown",
   "metadata": {},
   "source": [
    "Now it's just as easy to iterate over all records:"
   ]
  },
  {
   "cell_type": "markdown",
   "metadata": {},
   "source": [
    "## Some special data structures from the standard library\n",
    "\n",
    "### `Collections.Counter`\n",
    "\n",
    "Common scenario number one: we want to count the number of times each unique element occurs in a collection of things. E.g. counting bases in a DNA sequence:"
   ]
  },
  {
   "cell_type": "code",
   "execution_count": null,
   "metadata": {},
   "outputs": [],
   "source": [
    "dna = 'aattggaattggaattg'\n",
    "base_counts = {}\n",
    "for base in dna:\n",
    "    current_count = base_counts.get(base, 0)\n",
    "    base_counts[base] = current_count + 1\n",
    "\n",
    "print(base_counts)"
   ]
  },
  {
   "cell_type": "markdown",
   "metadata": {},
   "source": [
    "`collections.Counter` is a special dict class for doing this. Construct it by passing a list (or string, etc.) as the argument:"
   ]
  },
  {
   "cell_type": "code",
   "execution_count": null,
   "metadata": {},
   "outputs": [],
   "source": [
    "import collections\n",
    "\n",
    "dna = 'aattggaattggaattg'\n",
    "base_counter = collections.Counter(dna)\n",
    "\n",
    "print(base_counter)\n",
    "print(base_counter.most_common())\n",
    "print(base_counter.get('t'))"
   ]
  },
  {
   "cell_type": "markdown",
   "metadata": {},
   "source": [
    "### `collections.defaultdict`\n",
    "\n",
    "Common scenario number two: we want to have a dict where there's a default value for new keys. Let's tackle the exact same problem. Previously we have implicitly used zero as the default value when retrieving a key:"
   ]
  },
  {
   "cell_type": "code",
   "execution_count": null,
   "metadata": {},
   "outputs": [],
   "source": [
    "dna = 'aattggaattggaattg'\n",
    "base_counts = {}\n",
    "for base in dna:\n",
    "    current_count = base_counts.get(base, 0)\n",
    "    base_counts[base] = current_count + 1\n",
    "\n",
    "print(base_counts)"
   ]
  },
  {
   "cell_type": "markdown",
   "metadata": {},
   "source": [
    "if we use a `defaultdict` we can supply a function that will be used to create the value for a key when we ask for it."
   ]
  },
  {
   "cell_type": "code",
   "execution_count": null,
   "metadata": {},
   "outputs": [],
   "source": [
    "import collections\n",
    "\n",
    "def return_zero():\n",
    "    return 0\n",
    "\n",
    "# note no parens after function name\n",
    "dd = collections.defaultdict(return_zero)\n",
    "dd['banana']"
   ]
  },
  {
   "cell_type": "code",
   "execution_count": null,
   "metadata": {},
   "outputs": [],
   "source": [
    "# or with a lambda\n",
    "dd = collections.defaultdict(lambda : 0)\n",
    "dd['apple']"
   ]
  },
  {
   "cell_type": "markdown",
   "metadata": {},
   "source": [
    "Now we can manipulate values in the dict without worrying about whether there is already a value there:"
   ]
  },
  {
   "cell_type": "code",
   "execution_count": null,
   "metadata": {},
   "outputs": [],
   "source": [
    "dna = 'aattggaattggaattg'\n",
    "base_counts = collections.defaultdict(lambda : 0)\n",
    "for base in dna:\n",
    "    base_counts[base] = base_counts[base] + 1\n",
    "print(base_counts)\n",
    "\n",
    "\n",
    "# or more concisely\n",
    "base_counts = collections.defaultdict(lambda : 0)\n",
    "for base in dna:\n",
    "    base_counts[base] +=  1\n",
    "print(base_counts)\n"
   ]
  },
  {
   "cell_type": "markdown",
   "metadata": {},
   "source": [
    "## Exercise\n",
    "\n",
    "### Transforming data between structures\n",
    "\n",
    "Use the heavy metal gene expression data.\n",
    " \n",
    "The similarity score between two conditions is the number of over-expressed genes in common (the intersection) divided by the total number of over-expressed genes (the union).\n",
    " \n",
    "Write a program that will start with the dict of sets and produce a pairwise similarity matrix stored as a dict of dicts. \n",
    " \n",
    "We should be able to get the score for a given pair of conditions like this:\n",
    "\n",
    "```python\n",
    "score = similarity_matrix['arsenic']['cadmium']\n",
    "```"
   ]
  },
  {
   "cell_type": "markdown",
   "metadata": {},
   "source": [
    "Hints\n",
    "\n",
    "- take a look at [the documentation for sets](https://docs.python.org/2/library/stdtypes.html#set).\n",
    "- this is really three problems: (1) how to calculate similarity for any two given set of genes and (2) how to generate all pairs of sets of genes and (3) how to store the resulting scores.\n",
    "- think about what the final data structure will look like... you can figure this out from the code fragment above. Draw the final data structure if it helps.\n",
    "\n"
   ]
  },
  {
   "cell_type": "code",
   "execution_count": null,
   "metadata": {},
   "outputs": [],
   "source": [
    "\n",
    "gene_sets = { \n",
    "        'arsenic' : {1,2,3,4,5,6,8,12}, \n",
    "        'cadmium' : {2,12,6,4}, \n",
    "        'copper' : {7,6,10,4,8}, \n",
    "        'mercury' : {3,2,4,5,1} \n",
    "} \n",
    " \n",
    "set1 = gene_sets['arsenic'] \n",
    "set2 = gene_sets['mercury'] \n",
    "print(set1.intersection(set2))\n",
    "print(set1.union(set2))\n",
    "len(set1.intersection(set2)) / len(set1.union(set2)) "
   ]
  },
  {
   "cell_type": "markdown",
   "metadata": {},
   "source": [
    "Next, how to calculate score for each pair of conditions? We can iterate over once with `items()`:"
   ]
  },
  {
   "cell_type": "code",
   "execution_count": null,
   "metadata": {},
   "outputs": [],
   "source": [
    "for condition, geneset in gene_sets.items():\n",
    "    print(condition, geneset)"
   ]
  },
  {
   "cell_type": "markdown",
   "metadata": {},
   "source": [
    "So to get pairs we just need two nested loops. Let's throw in an extra `if` to avoid comparing condition to itself:"
   ]
  },
  {
   "cell_type": "code",
   "execution_count": null,
   "metadata": {},
   "outputs": [],
   "source": [
    "for condition1, set1 in gene_sets.items(): \n",
    "    for condition2, set2 in gene_sets.items(): \n",
    "        if condition1 != condition2: \n",
    "            similarity = len(set1.intersection(set2)) / len(set1.union(set2))\n",
    "            print(condition1, condition2, similarity) "
   ]
  },
  {
   "cell_type": "markdown",
   "metadata": {},
   "source": [
    "We still get comparisons each way i.e. mercury vs. copper and copper vs. mercury but ignore that for now.\n",
    "\n",
    "Next, how to store the results? The goal is to eventually be able to type\n",
    "\n",
    "```python\n",
    "similarity_matrix['arsenic']['cadmium']\n",
    "```\n",
    "\n",
    "so it's tempting to just create a `similarity_matrix` dict and then do this:"
   ]
  },
  {
   "cell_type": "code",
   "execution_count": null,
   "metadata": {},
   "outputs": [],
   "source": [
    "from collections import defaultdict\n",
    "similarity_scores = defaultdict(dict) \n",
    "for condition1, set1 in gene_sets.items():\n",
    "    for condition2, set2 in gene_sets.items():\n",
    "        if condition1 != condition2:\n",
    "            similarity = len(set1.intersection(set2)) / len(set1.union(set2))\n",
    "            similarity_scores[condition1][condition2] = similarity\n",
    "similarity_scores"
   ]
  },
  {
   "cell_type": "code",
   "execution_count": null,
   "metadata": {},
   "outputs": [],
   "source": [
    "similarity_scores['arsenic']['cadmium']"
   ]
  },
  {
   "cell_type": "code",
   "execution_count": null,
   "metadata": {},
   "outputs": [],
   "source": []
  },
  {
   "cell_type": "code",
   "execution_count": null,
   "metadata": {},
   "outputs": [],
   "source": [
    "# ignore this cell, it's for loading custom js code\n",
    "from IPython.core.display import Javascript\n",
    "Javascript(filename=\"custom.js\")"
   ]
  },
  {
   "cell_type": "code",
   "execution_count": null,
   "metadata": {},
   "outputs": [],
   "source": [
    "# ignore this cell, it's for loading custom css code\n",
    "from IPython.core.display import HTML\n",
    "HTML(filename=\"custom.css\")"
   ]
  },
  {
   "cell_type": "code",
   "execution_count": null,
   "metadata": {},
   "outputs": [],
   "source": []
  }
 ],
 "metadata": {
  "anaconda-cloud": {},
  "kernelspec": {
   "display_name": "Python 3",
   "language": "python",
   "name": "python3"
  },
  "language_info": {
   "codemirror_mode": {
    "name": "ipython",
    "version": 3
   },
   "file_extension": ".py",
   "mimetype": "text/x-python",
   "name": "python",
   "nbconvert_exporter": "python",
   "pygments_lexer": "ipython3",
   "version": "3.6.5"
  }
 },
 "nbformat": 4,
 "nbformat_minor": 1
}
