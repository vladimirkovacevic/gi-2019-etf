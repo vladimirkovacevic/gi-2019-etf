{
 "cells": [
  {
   "cell_type": "code",
   "execution_count": null,
   "metadata": {},
   "outputs": [],
   "source": [
    "def suffixArray(s):\n",
    "    \"\"\" Given T return suffix array SA(T).  We use Python's sorted\n",
    "        function here for simplicity, but we can do better. \"\"\"\n",
    "    satups = sorted([(s[i:], i) for i in range(len(s))])\n",
    "    # Extract and return just the offsets\n",
    "#     print(satups)\n",
    "    return map(lambda x: x[1], satups)\n",
    "def bwtViaSa(t):\n",
    "    \"\"\" Given T, returns BWT(T) by way of the suffix array. \"\"\"\n",
    "    bw = []\n",
    "    for si in suffixArray(t):\n",
    "        if si == 0: bw.append('$')\n",
    "        else: bw.append(t[si-1])\n",
    "    return ''.join(bw) # return string-ized version of list bw"
   ]
  },
  {
   "cell_type": "code",
   "execution_count": null,
   "metadata": {},
   "outputs": [],
   "source": [
    "list(suffixArray('ABAABA'))"
   ]
  },
  {
   "cell_type": "code",
   "execution_count": null,
   "metadata": {},
   "outputs": [],
   "source": [
    "bwtViaSa('ABAABA$')"
   ]
  },
  {
   "cell_type": "code",
   "execution_count": null,
   "metadata": {},
   "outputs": [],
   "source": [
    "bwtViaSa('CTGCTGCTGCTGAACTG$')"
   ]
  },
  {
   "cell_type": "code",
   "execution_count": null,
   "metadata": {},
   "outputs": [],
   "source": []
  }
 ],
 "metadata": {
  "anaconda-cloud": {},
  "kernelspec": {
   "display_name": "Python 3",
   "language": "python",
   "name": "python3"
  },
  "language_info": {
   "codemirror_mode": {
    "name": "ipython",
    "version": 3
   },
   "file_extension": ".py",
   "mimetype": "text/x-python",
   "name": "python",
   "nbconvert_exporter": "python",
   "pygments_lexer": "ipython3",
   "version": "3.6.5"
  }
 },
 "nbformat": 4,
 "nbformat_minor": 1
}
