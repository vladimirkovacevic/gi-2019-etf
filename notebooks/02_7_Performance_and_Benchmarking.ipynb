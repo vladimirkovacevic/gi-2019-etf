{
 "cells": [
  {
   "cell_type": "markdown",
   "metadata": {},
   "source": [
    "<h1 id=\"toctitle\">Performance and benchmarking</h1>\n",
    "<ul id=\"toc\"/>"
   ]
  },
  {
   "cell_type": "markdown",
   "metadata": {},
   "source": [
    "---\n",
    "\n",
    "Distinct but related concepts:\n",
    "\n",
    "- Measuring\n",
    "    - Benchmarking (how long does something take)\n",
    "        - CPU\n",
    "        - Memory (less so)\n",
    "    - Profiling (which bits are slow)\n",
    "        - CPU\n",
    "        - ~~Memory~~ (not today)\n",
    "- Optimizing\n",
    "\n",
    "As with most programming jobs, a range of tools from simple to complex.\n",
    "\n",
    "## Benchmarking\n",
    "\n",
    "In approximate order of usefulness....\n",
    "\n",
    "### Unix time\n",
    "How long does our program take to run? On Linux/Mac we can do \n",
    "\n",
    "```\n",
    "time somecommand\n",
    "```\n",
    "\n",
    "In iPython, prefix shell commands with `!`\n"
   ]
  },
  {
   "cell_type": "code",
   "execution_count": null,
   "metadata": {},
   "outputs": [],
   "source": [
    "!date"
   ]
  },
  {
   "cell_type": "markdown",
   "metadata": {},
   "source": [
    "Given output that looks like this:\n",
    "\n",
    "```\n",
    "real\t0m0.490s \n",
    "user\t0m0.457s \n",
    "sys\t    0m0.032s \n",
    "```\n",
    "\n",
    "- real is the wallclock time (affected by busy systems and other programs)\n",
    "- user is the time spent executing our code\n",
    "- sys is the time spent waiting for system calls (file IO, memory, network)\n",
    "\n",
    "user+sys is probably the most useful. \n",
    "\n",
    "### Manual timing\n",
    "\n",
    "Just measure the current time at the start of code, then again at end, and get the difference. \n",
    "\n",
    "`time.time()` gives us current UNIX epoch (number of seconds since midnight January 1st 1970 (don't ask.))"
   ]
  },
  {
   "cell_type": "code",
   "execution_count": null,
   "metadata": {},
   "outputs": [],
   "source": [
    "import time \n",
    "time.time()"
   ]
  },
  {
   "cell_type": "markdown",
   "metadata": {},
   "source": [
    "On most systems this has very high resolution. "
   ]
  },
  {
   "cell_type": "code",
   "execution_count": null,
   "metadata": {},
   "outputs": [],
   "source": [
    "import time \n",
    "start = time.time() \n",
    "\n",
    "# print the sum of the first million cube numbers\n",
    "x = 0 \n",
    "for i in range(1000000): \n",
    "    x = x + i ** 3 \n",
    "print(x) \n",
    " \n",
    "end = time.time() \n",
    "print(end - start) "
   ]
  },
  {
   "cell_type": "markdown",
   "metadata": {},
   "source": [
    "This is arguably better than using the `time` command line as it doesn't include Python start up time, etc. However, still affected by other processes.\n",
    "\n",
    "### `timeit` module\n",
    "\n",
    "Python has a built in module for doing timing. From the command line:"
   ]
  },
  {
   "cell_type": "code",
   "execution_count": null,
   "metadata": {},
   "outputs": [],
   "source": [
    "!python -m timeit \"4 ** 10\""
   ]
  },
  {
   "cell_type": "code",
   "execution_count": null,
   "metadata": {},
   "outputs": [],
   "source": [
    "%%timeit\n",
    "4 ** 10"
   ]
  },
  {
   "cell_type": "markdown",
   "metadata": {},
   "source": [
    "Nice features:\n",
    "- automatically runs the code many times to get an accurate measurement\n",
    "- runs the whole thing three times and reports the best (accounts for other processes)\n",
    "- gives the answer in easy to read units:"
   ]
  },
  {
   "cell_type": "code",
   "execution_count": null,
   "metadata": {},
   "outputs": [],
   "source": [
    "!python -m timeit \"12345 in range(1000000)\" "
   ]
  },
  {
   "cell_type": "markdown",
   "metadata": {},
   "source": [
    "In the above code, do we spend more time constructing the range list or checking if the number is in it? Let's try just constructing the range:"
   ]
  },
  {
   "cell_type": "code",
   "execution_count": null,
   "metadata": {},
   "outputs": [],
   "source": [
    "!python -m timeit \"range(1000000)\" "
   ]
  },
  {
   "cell_type": "markdown",
   "metadata": {},
   "source": [
    "Yep, takes loads of time to construct the list. Seperate that bit out with a setup (`-s`) command:"
   ]
  },
  {
   "cell_type": "code",
   "execution_count": null,
   "metadata": {},
   "outputs": [],
   "source": [
    "!python -m timeit -s \"r=range(1000000)\" \"12345 in r\" "
   ]
  },
  {
   "cell_type": "markdown",
   "metadata": {},
   "source": [
    "In iPython, we have magic convenience functions:"
   ]
  },
  {
   "cell_type": "code",
   "execution_count": null,
   "metadata": {},
   "outputs": [],
   "source": [
    "%timeit 4 ** 10"
   ]
  },
  {
   "cell_type": "code",
   "execution_count": null,
   "metadata": {},
   "outputs": [],
   "source": [
    "r=range(1000000)\n",
    "%timeit 12345 in r"
   ]
  },
  {
   "cell_type": "code",
   "execution_count": null,
   "metadata": {},
   "outputs": [],
   "source": [
    "%%timeit\n",
    "# print the sum of the first million cube numbers\n",
    "x = 0 \n",
    "for i in range(1000000): \n",
    "    x = x + i ** 3 \n",
    "#print(x) "
   ]
  },
  {
   "cell_type": "markdown",
   "metadata": {},
   "source": [
    "`timeit` is useful for quickly checking which approach is faster. `timeit` case study: which way is faster to calculate AT content - counting a and t, or looking at each base and keeping a tally?"
   ]
  },
  {
   "cell_type": "code",
   "execution_count": null,
   "metadata": {},
   "outputs": [],
   "source": [
    "def at_count(dna): \n",
    "    return (dna.count('a') + dna.count('t')) / len(dna) \n",
    " \n",
    "def at_iter(dna): \n",
    "    a_count = 0 \n",
    "    t_count = 0 \n",
    "    for base in dna: \n",
    "        if base == 'a': \n",
    "            a_count = a_count + 1 \n",
    "        elif base == 't': \n",
    "            t_count = t_count + 1 \n",
    "    return (a_count + t_count) / len(dna) \n",
    "\n",
    "test_dna = 'atcgatcgatcatgatcggatcgtagctagcatctagtc' \n",
    "assert(at_count(test_dna) == at_iter(test_dna)) "
   ]
  },
  {
   "cell_type": "markdown",
   "metadata": {},
   "source": [
    "Which is faster?"
   ]
  },
  {
   "cell_type": "code",
   "execution_count": null,
   "metadata": {},
   "outputs": [],
   "source": [
    "%timeit at_count(test_dna)"
   ]
  },
  {
   "cell_type": "code",
   "execution_count": null,
   "metadata": {},
   "outputs": [],
   "source": [
    "%timeit at_iter(test_dna)"
   ]
  },
  {
   "cell_type": "markdown",
   "metadata": {},
   "source": [
    "Hmmm, something odd is going on. Short strings don't give reliable benchmarking results in Python due to optimizations in cPython. Let's try a more realistic input:"
   ]
  },
  {
   "cell_type": "code",
   "execution_count": null,
   "metadata": {},
   "outputs": [],
   "source": [
    "import random\n",
    "def random_dna(length):\n",
    "    return \"\".join([random.choice(['A','T','G','C']) for _ in range(length)])"
   ]
  },
  {
   "cell_type": "code",
   "execution_count": null,
   "metadata": {},
   "outputs": [],
   "source": [
    "random_dna(20)"
   ]
  },
  {
   "cell_type": "markdown",
   "metadata": {},
   "source": [
    "Now we can compare the two functions:"
   ]
  },
  {
   "cell_type": "code",
   "execution_count": null,
   "metadata": {},
   "outputs": [],
   "source": [
    "%timeit at_count(random_dna(10000))\n",
    "%timeit at_iter(random_dna(10000))"
   ]
  },
  {
   "cell_type": "markdown",
   "metadata": {},
   "source": [
    "Looks about equal, but wait: what if most of the time is spent generating the random DNA sequence? This is fairer:"
   ]
  },
  {
   "cell_type": "code",
   "execution_count": null,
   "metadata": {},
   "outputs": [],
   "source": [
    "d = random_dna(10000)\n",
    "%timeit at_count(d)\n",
    "%timeit at_iter(d)"
   ]
  },
  {
   "cell_type": "markdown",
   "metadata": {},
   "source": [
    "Summary: \n",
    "\n",
    "- getting timing right is hard\n",
    "- `count()` is faster than iteration (due to fast C code)\n",
    "\n",
    "### Benchmarking memory\n",
    "\n",
    "Here's the short story:\n",
    "\n",
    "`pip install psutil`\n",
    "\n",
    "check https://pypi.python.org/pypi/psutil\n",
    "\n",
    "then"
   ]
  },
  {
   "cell_type": "code",
   "execution_count": null,
   "metadata": {},
   "outputs": [],
   "source": [
    "import psutil, os \n",
    "process = psutil.Process(os.getpid()) \n",
    "mem = process.memory_info().rss / 1024 / 1024 \n",
    "print(\"Used this much memory: \" + str(mem) + ' Mb')"
   ]
  },
  {
   "cell_type": "code",
   "execution_count": null,
   "metadata": {},
   "outputs": [],
   "source": [
    "process.memory_info().rss\n"
   ]
  },
  {
   "cell_type": "markdown",
   "metadata": {},
   "source": [
    "Problem: this is useless in iPython notebooks as it includes everything that's been executed. For simple scripts, it's better. "
   ]
  },
  {
   "cell_type": "code",
   "execution_count": null,
   "metadata": {},
   "outputs": [],
   "source": [
    "cmds = 'import psutil, os'\n",
    "cmds += '\\n' + 'process = psutil.Process(os.getpid())'\n",
    "cmds += '\\n' + 'mem = process.memory_info().rss / 1024 / 1024'\n",
    "cmds += '\\n' + 'print(\\\"Used this much memory: \\\" + str(mem) + \\' Mb\\')'\n",
    "with open('check_mem.py', 'w') as f:\n",
    "    f.write(cmds)\n",
    "\n",
    "!python check_mem.py"
   ]
  },
  {
   "cell_type": "markdown",
   "metadata": {},
   "source": [
    "This lets us investigate time/memory trade offs. We know that checking to see if a number is in a set is faster than checking to see if it's in a list:"
   ]
  },
  {
   "cell_type": "code",
   "execution_count": null,
   "metadata": {},
   "outputs": [],
   "source": [
    "l = range(1000000)\n",
    "s = set(l)\n",
    "%timeit 12345 in l\n",
    "%timeit 12345 in s"
   ]
  },
  {
   "cell_type": "markdown",
   "metadata": {},
   "source": [
    "but how much longer does it take to create the data structure in the first place?"
   ]
  },
  {
   "cell_type": "code",
   "execution_count": null,
   "metadata": {},
   "outputs": [],
   "source": [
    "%timeit list(range(1000000))\n",
    "%timeit set(range(1000000))"
   ]
  },
  {
   "cell_type": "markdown",
   "metadata": {},
   "source": [
    "and how much more memory does it take to hold the set?"
   ]
  },
  {
   "cell_type": "code",
   "execution_count": null,
   "metadata": {},
   "outputs": [],
   "source": [
    "cmd1 = '\\nimport psutil, os'\n",
    "cmd2 = '\\nprocess = psutil.Process(os.getpid())'\n",
    "cmd2 += '\\nmem = process.memory_info().rss / 1024 / 1024'\n",
    "cmd2 += '\\nprint(\\\"Used this much memory: \\\" + str(mem) + \\' Mb\\')'\n",
    "\n",
    "cmd_list = '\\nlist(range(1000000))'\n",
    "cmd_set = '\\nset(range(1000000))'\n",
    "\n",
    "with open('list_mem.py', 'w') as f_list, open('set_mem.py', 'w') as f_set:\n",
    "    f_list.write(cmd1 + cmd_list + cmd2)\n",
    "    f_set.write(cmd1 + cmd_set + cmd2)\n",
    "!python list_mem.py\n",
    "!python set_mem.py"
   ]
  },
  {
   "cell_type": "markdown",
   "metadata": {},
   "source": [
    "Conclusions:\n",
    "- if we need to create a list once then check membership many times, a set will be faster\n",
    "- if we need to create many lists, a set might be slower\n",
    "- a set will use more (x2) memory for these ranges \n",
    "\n",
    "Of course, everything might be different for non-integers!\n",
    "\n",
    "## Profiling\n",
    "\n",
    "Profiling is the process of taking an existing piece of code and identifying which bits are taking the time. \n",
    "\n",
    "Scenario: given\n",
    "\n",
    "- a single long DNA sequence\n",
    "- a collection of interesting 4-base motifs\n",
    "\n",
    "we want to identify frequently-occuring (say 50 times) 4-base motifs in the sequence and divide them into ones that are also on the interesting list, and ones that aren't. \n",
    "\n"
   ]
  },
  {
   "cell_type": "code",
   "execution_count": null,
   "metadata": {},
   "outputs": [],
   "source": [
    "# create a random dna sequence\n",
    "dna = random_dna(10000)\n",
    "\n",
    "# create 100 random interesting motifs\n",
    "motifs = [random_dna(4) for _ in range(100)]"
   ]
  },
  {
   "cell_type": "code",
   "execution_count": null,
   "metadata": {
    "scrolled": true
   },
   "outputs": [],
   "source": [
    "%%timeit\n",
    "# standard kmer counting code to identify frequent chunks\n",
    "frequent_chunks = [] \n",
    "for start in range(len(dna) - 3): \n",
    "    chunk = dna[start:start + 4] \n",
    "    if dna.count(chunk) > 50: \n",
    "        frequent_chunks.append(chunk) \n",
    "\n",
    "# now check each chunk to see if it's in the list of motifs\n",
    "for chunk in frequent_chunks: \n",
    "    if chunk in motifs: \n",
    "        print(chunk + \" is frequent and interesting\") \n",
    "    else: \n",
    "        print(chunk + \" is frequent but not interesting\")"
   ]
  },
  {
   "cell_type": "markdown",
   "metadata": {},
   "source": [
    "How can we speed this program up? We know that checking to see if an element is in a list is slow, so let's change it to a set:"
   ]
  },
  {
   "cell_type": "code",
   "execution_count": null,
   "metadata": {},
   "outputs": [],
   "source": [
    "# create 100 random interesting motifs\n",
    "motifs = set([random_dna(4) for _ in range(100)])"
   ]
  },
  {
   "cell_type": "code",
   "execution_count": null,
   "metadata": {},
   "outputs": [],
   "source": [
    "%%timeit\n",
    "# standard kmer counting code to identify frequent chunks\n",
    "frequent_chunks = [] \n",
    "for start in range(len(dna) - 3): \n",
    "    chunk = dna[start:start + 4] \n",
    "    if dna.count(chunk) > 50: \n",
    "        frequent_chunks.append(chunk) \n",
    "\n",
    "# now check each chunk to see if it's in the list of motifs\n",
    "for chunk in frequent_chunks: \n",
    "    if chunk in motifs: \n",
    "        print(chunk + \" is frequent and interesting\") \n",
    "    else: \n",
    "        print(chunk + \" is frequent but not interesting\")\n",
    "        \n",
    "print(len(frequent_chunks))"
   ]
  },
  {
   "cell_type": "markdown",
   "metadata": {},
   "source": []
  },
  {
   "cell_type": "code",
   "execution_count": null,
   "metadata": {},
   "outputs": [],
   "source": [
    "# ignore this cell, it's for loading custom js code\n",
    "from IPython.core.display import Javascript\n",
    "Javascript(filename=\"custom.js\")"
   ]
  },
  {
   "cell_type": "code",
   "execution_count": null,
   "metadata": {},
   "outputs": [],
   "source": [
    "# ignore this cell, it's for loading custom css code\n",
    "from IPython.core.display import HTML\n",
    "HTML(filename=\"custom.css\")"
   ]
  }
 ],
 "metadata": {
  "anaconda-cloud": {},
  "kernelspec": {
   "display_name": "Python 3",
   "language": "python",
   "name": "python3"
  },
  "language_info": {
   "codemirror_mode": {
    "name": "ipython",
    "version": 3
   },
   "file_extension": ".py",
   "mimetype": "text/x-python",
   "name": "python",
   "nbconvert_exporter": "python",
   "pygments_lexer": "ipython3",
   "version": "3.5.2"
  }
 },
 "nbformat": 4,
 "nbformat_minor": 1
}
