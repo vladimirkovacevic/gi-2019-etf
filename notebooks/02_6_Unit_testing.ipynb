{
 "cells": [
  {
   "cell_type": "markdown",
   "metadata": {},
   "source": [
    "<h1 id=\"toctitle\">Automated testing</h1>\n",
    "<ul id=\"toc\"/>"
   ]
  },
  {
   "cell_type": "markdown",
   "metadata": {},
   "source": [
    "Two tools to look at:\n",
    "\n",
    "- `assert` to get started with testing concepts \n",
    "\n",
    "__Some examples written deliberately sub-optimally!__\n",
    "\n",
    "## Testing with `assert`\n",
    "\n",
    "Write a function which takes a DNA sequence, a kmer length, and a threshold, and returns a list of all the kmers that occur at least the threshold number of times in the sequence. First attempt:"
   ]
  },
  {
   "cell_type": "code",
   "execution_count": null,
   "metadata": {},
   "outputs": [],
   "source": [
    "def find_common_kmers(dna, k, threshold):\n",
    "    result = []\n",
    "    for start in range(len(dna)):\n",
    "        kmer = dna[start:start+k]\n",
    "        if dna.count(kmer) >= threshold:\n",
    "            result.append(kmer)\n",
    "    return result"
   ]
  },
  {
   "cell_type": "markdown",
   "metadata": {},
   "source": [
    "Now a very simple test: can our function correctly figure out that 'atgaatgc' contains 'atg' twice?"
   ]
  },
  {
   "cell_type": "code",
   "execution_count": null,
   "metadata": {},
   "outputs": [],
   "source": [
    "find_common_kmers('atgaatgc', 3, 2)"
   ]
  },
  {
   "cell_type": "markdown",
   "metadata": {},
   "source": [
    "Is this correct? No way to tell from the description; it depends on what we want to use the output for. \n",
    "\n",
    "**Testing forces us to think carefully about how we want our code to behave.**\n",
    "\n",
    "### Write the test before you fix the bug\n",
    "\n",
    "Let's say that we only want unique kmers in the output. We can test this:"
   ]
  },
  {
   "cell_type": "code",
   "execution_count": null,
   "metadata": {},
   "outputs": [],
   "source": [
    "assert find_common_kmers('atgaatgc', 3, 2) == ['atg']"
   ]
  },
  {
   "cell_type": "markdown",
   "metadata": {},
   "source": [
    "As expected, the test fails. Let's edit the code to fix it:"
   ]
  },
  {
   "cell_type": "code",
   "execution_count": null,
   "metadata": {},
   "outputs": [],
   "source": [
    "def find_common_kmers(dna, k, threshold):\n",
    "    result = []\n",
    "    for start in range(len(dna)):\n",
    "        kmer = dna[start:start+k]\n",
    "        if dna.count(kmer) >= threshold and kmer not in result:\n",
    "            result.append(kmer)\n",
    "    return result\n",
    "\n",
    "assert find_common_kmers('atgaatgc', 3, 2) == ['atg']"
   ]
  },
  {
   "cell_type": "markdown",
   "metadata": {},
   "source": [
    "Now it runs without error. Why bother writing the test if we're going to fix it anyway? Because bugs have a habit of re-emerging when you start editing the code. \n",
    "\n",
    "A more complicated example: what do we expect the output to be from \n",
    "\n",
    "```python\n",
    "find_common_kmers('atgaatgcaaatga', 3, 3)\n",
    "```\n",
    "\n",
    "? 'atg' is in the sequence three times, and no other 3mer occurs more than twice, so we should see `['atg']`. An assertion expresses this idea:"
   ]
  },
  {
   "cell_type": "code",
   "execution_count": null,
   "metadata": {},
   "outputs": [],
   "source": [
    "assert find_common_kmers('atgaatgcaaatga', 3, 3) == ['atg']"
   ]
  },
  {
   "cell_type": "markdown",
   "metadata": {},
   "source": [
    "Again it fails, but why? To figure out, we probably have to look at the return value:"
   ]
  },
  {
   "cell_type": "code",
   "execution_count": null,
   "metadata": {},
   "outputs": [],
   "source": [
    "find_common_kmers('atgaatgcaaatga', 3, 3)"
   ]
  },
  {
   "cell_type": "markdown",
   "metadata": {},
   "source": [
    "There is a bug in the kmer generating code. We have forgotten to make sure that we only get complete kmers. We can fix it by tweaking the call to `range()`:"
   ]
  },
  {
   "cell_type": "code",
   "execution_count": null,
   "metadata": {},
   "outputs": [],
   "source": [
    "def find_common_kmers(dna, k, threshold):\n",
    "    result = []\n",
    "    for start in range(len(dna) +1 -k):\n",
    "        kmer = dna[start:start+k]\n",
    "        if dna.count(kmer) >= threshold and kmer not in result:\n",
    "            result.append(kmer)\n",
    "    return result\n",
    "\n"
   ]
  },
  {
   "cell_type": "markdown",
   "metadata": {},
   "source": [
    "Now both our assertions run without errors:"
   ]
  },
  {
   "cell_type": "code",
   "execution_count": null,
   "metadata": {},
   "outputs": [],
   "source": [
    "assert find_common_kmers('atgaatgc', 3, 2) == ['atg']\n",
    "assert find_common_kmers('atgaatgcaaatga', 3, 3) == ['atg']"
   ]
  },
  {
   "cell_type": "markdown",
   "metadata": {},
   "source": [
    "### How many tests to write?\n",
    "\n",
    "As soon as we start thinking about testing, it's obvious that there are an infinite number of possible tests. A good way to write tests efficiently is to test extreme inputs. If it works for k=1 and k=10 then it probably works for k=2,3,4,etc."
   ]
  },
  {
   "cell_type": "code",
   "execution_count": null,
   "metadata": {},
   "outputs": [],
   "source": [
    "assert find_common_kmers('aattggcc', 1, 2) == ['a', 't', 'g', 'c']\n",
    "assert find_common_kmers('tagctagtcg', 10, 1) == ['tagctagtcg']"
   ]
  },
  {
   "cell_type": "markdown",
   "metadata": {},
   "source": [
    "Another good idea is to test the function on unrealistic inputs. Example: for kmer length of zero we might expect an empty list:"
   ]
  },
  {
   "cell_type": "code",
   "execution_count": null,
   "metadata": {},
   "outputs": [],
   "source": [
    "assert find_common_kmers('tagctagtcg', 0, 2) == []"
   ]
  },
  {
   "cell_type": "markdown",
   "metadata": {},
   "source": [
    "but in fact we get a list with a single element which is an empty string:"
   ]
  },
  {
   "cell_type": "code",
   "execution_count": null,
   "metadata": {},
   "outputs": [],
   "source": [
    "find_common_kmers('tagctagtcg', 0, 2)"
   ]
  },
  {
   "cell_type": "markdown",
   "metadata": {},
   "source": [
    "Here's why:"
   ]
  },
  {
   "cell_type": "code",
   "execution_count": null,
   "metadata": {},
   "outputs": [],
   "source": [
    "'tagctagtcg'[0:0]"
   ]
  },
  {
   "cell_type": "code",
   "execution_count": null,
   "metadata": {},
   "outputs": [],
   "source": [
    "'tagctagtcg'.count('')"
   ]
  },
  {
   "cell_type": "markdown",
   "metadata": {},
   "source": [
    "To fix this let's put in a special case for k<1:"
   ]
  },
  {
   "cell_type": "code",
   "execution_count": null,
   "metadata": {},
   "outputs": [],
   "source": [
    "def find_common_kmers(dna, k, threshold):\n",
    "    if k < 1:\n",
    "        return []\n",
    "    result = []\n",
    "    for start in range(len(dna) + 1 - k):\n",
    "        kmer = dna[start:start+k]\n",
    "        if dna.count(kmer) >= threshold and kmer not in result:\n",
    "            result.append(kmer)\n",
    "    return result"
   ]
  },
  {
   "cell_type": "markdown",
   "metadata": {},
   "source": [
    "Plus a few more assertions to make a test suite:"
   ]
  },
  {
   "cell_type": "code",
   "execution_count": null,
   "metadata": {},
   "outputs": [],
   "source": [
    "assert find_common_kmers('atgaatgcaaatga', 3, 3) == ['atg']\n",
    "assert find_common_kmers('atgaatgc', 3, 2) == ['atg']\n",
    "assert find_common_kmers('aattggcc', 1, 2) == ['a', 't', 'g', 'c']\n",
    "assert find_common_kmers('tagctagtcg', 10, 1) == ['tagctagtcg'] \n",
    "assert find_common_kmers('ctagctgctcgtgactgtcagtgtacg', 2, 4) ==  ['ct', 'tg', 'gt']\n",
    "assert find_common_kmers('cccaaaacccaaaacccaaaacccaaaa', 4, 4) ==  ['ccca', 'ccaa', 'caaa', 'aaaa']\n",
    "assert find_common_kmers('tagctagtcg', 0, 2) == []\n",
    "assert find_common_kmers('tagctagtcg', -3, 2) == []"
   ]
  },
  {
   "cell_type": "markdown",
   "metadata": {},
   "source": [
    "### Refactoring and regressions\n",
    "\n",
    "Let's do a few quick benchmarks:"
   ]
  },
  {
   "cell_type": "code",
   "execution_count": null,
   "metadata": {},
   "outputs": [],
   "source": [
    "import random\n",
    "def random_dna(length):\n",
    "    return \"\".join([random.choice(['A','T','G','C']) for _ in range(length)])\n",
    "\n",
    "r = random_dna(2000)\n",
    "%timeit find_common_kmers(r, 8, 1000)\n",
    "\n",
    "r = random_dna(20000)\n",
    "%timeit find_common_kmers(r, 8, 1000)"
   ]
  },
  {
   "cell_type": "markdown",
   "metadata": {},
   "source": [
    "Increasing the size of the DNA sequence x 10 increases the time x 100. This function doesn't scale well (repeated calls to `count()`). We would like to rewrite it to be faster **without** changing its behaviour. \n",
    "\n",
    "We call this **refactoring**.\n",
    "\n",
    "Here's an attempt at a better version which uses a dict to keep a running total of kmers:"
   ]
  },
  {
   "cell_type": "code",
   "execution_count": null,
   "metadata": {},
   "outputs": [],
   "source": [
    "def find_common_kmers(dna, k, threshold):\n",
    "   \n",
    "    kmer2count = {}\n",
    "    for start in range(len(dna) + 1 - k):\n",
    "        kmer = dna[start:start+k]\n",
    "        old_count = kmer2count.get(kmer, 0)\n",
    "        kmer2count[kmer] = old_count + 1\n",
    "    \n",
    "    result = []\n",
    "    for kmer, count in kmer2count.items():\n",
    "        if count >= threshold:\n",
    "            result.append(kmer)\n",
    "    return result\n"
   ]
  },
  {
   "cell_type": "markdown",
   "metadata": {},
   "source": [
    "First let's run benchmarks again to see if it's actually faster:"
   ]
  },
  {
   "cell_type": "code",
   "execution_count": null,
   "metadata": {},
   "outputs": [],
   "source": [
    "r = random_dna(2000)\n",
    "%timeit find_common_kmers(r, 8, 1000)\n",
    "\n",
    "r = random_dna(20000)\n",
    "%timeit find_common_kmers(r, 8, 1000)"
   ]
  },
  {
   "cell_type": "markdown",
   "metadata": {},
   "source": [
    "Much better - but how do we know that we haven't changed the behaviour? Just re-run the tests:"
   ]
  },
  {
   "cell_type": "code",
   "execution_count": null,
   "metadata": {},
   "outputs": [],
   "source": [
    "assert find_common_kmers('atgaatgcaaatga', 3, 3) == ['atg']\n",
    "assert find_common_kmers('atgaatgc', 3, 2) == ['atg']\n",
    "assert find_common_kmers('aattggcc', 1, 2) == ['a', 't', 'g', 'c']\n",
    "assert find_common_kmers('tagctagtcg', 10, 1) == ['tagctagtcg'] \n",
    "assert find_common_kmers('ctagctgctcgtgactgtcagtgtacg', 2, 4) ==  ['ct', 'tg', 'gt']\n",
    "assert find_common_kmers('cccaaaacccaaaacccaaaacccaaaa', 4, 4) ==  ['ccca', 'ccaa', 'caaa', 'aaaa']\n",
    "assert find_common_kmers('tagctagtcg', 0, 2) == []\n",
    "assert find_common_kmers('tagctagtcg', -3, 2) == []"
   ]
  },
  {
   "cell_type": "markdown",
   "metadata": {},
   "source": [
    "Something interesting - now the order is different:"
   ]
  },
  {
   "cell_type": "code",
   "execution_count": null,
   "metadata": {},
   "outputs": [],
   "source": [
    "find_common_kmers('aattggcc', 1, 2)"
   ]
  },
  {
   "cell_type": "markdown",
   "metadata": {},
   "source": [
    "The new version of the code doesn't preserve the input order. Do we care about this? Probably not, so let's rewrite the tests:"
   ]
  },
  {
   "cell_type": "code",
   "execution_count": null,
   "metadata": {},
   "outputs": [],
   "source": [
    "assert set(find_common_kmers('aattggcc', 1, 2)) == set(['a', 't', 'g', 'c'])"
   ]
  },
  {
   "cell_type": "code",
   "execution_count": null,
   "metadata": {},
   "outputs": [],
   "source": [
    "assert set(find_common_kmers('atgaatgcaaatga', 3, 3)) == set(['atg'])\n",
    "assert set(find_common_kmers('atgaatgc', 3, 2)) == set(['atg'])\n",
    "assert set(find_common_kmers('aattggcc', 1, 2)) == set(['a', 't', 'g', 'c'])\n",
    "assert set(find_common_kmers('tagctagtcg', 10, 1)) == set(['tagctagtcg'])\n",
    "assert set(find_common_kmers('ctagctgctcgtgactgtcagtgtacg', 2, 4)) ==  set(['ct', 'tg', 'gt'])\n",
    "assert set(find_common_kmers('cccaaaacccaaaacccaaaacccaaaa', 4, 4)) ==  set(['ccca', 'ccaa', 'caaa', 'aaaa'])\n",
    "assert set(find_common_kmers('tagctagtcg', 0, 2)) == set([])\n",
    "assert set(find_common_kmers('tagctagtcg', -3, 2)) == set([])"
   ]
  },
  {
   "cell_type": "markdown",
   "metadata": {},
   "source": [
    "This time we get down to the 7th test before something fails:"
   ]
  },
  {
   "cell_type": "code",
   "execution_count": null,
   "metadata": {},
   "outputs": [],
   "source": [
    "find_common_kmers('tagctagtcg', 0, 2)"
   ]
  },
  {
   "cell_type": "markdown",
   "metadata": {},
   "source": [
    "Same problem, same solution:"
   ]
  },
  {
   "cell_type": "code",
   "execution_count": null,
   "metadata": {},
   "outputs": [],
   "source": [
    "def find_common_kmers(dna, k, threshold):\n",
    "    if k < 1:\n",
    "        return []\n",
    "   \n",
    "    kmer2count = {}\n",
    "    for start in range(len(dna) + 1 - k):\n",
    "        kmer = dna[start:start+k]\n",
    "        old_count = kmer2count.get(kmer, 0)\n",
    "        kmer2count[kmer] = old_count + 1\n",
    "    \n",
    "    result = []\n",
    "    for kmer, count in kmer2count.items():\n",
    "        if count >= threshold:\n",
    "            result.append(kmer)\n",
    "    return result\n",
    "\n",
    "assert set(find_common_kmers('atgaatgcaaatga', 3, 3)) == set(['atg'])\n",
    "assert set(find_common_kmers('atgaatgc', 3, 2)) == set(['atg'])\n",
    "assert set(find_common_kmers('aattggcc', 1, 2)) == set(['a', 't', 'g', 'c'])\n",
    "assert set(find_common_kmers('tagctagtcg', 10, 1)) == set(['tagctagtcg'])\n",
    "assert set(find_common_kmers('ctagctgctcgtgactgtcagtgtacg', 2, 4)) ==  set(['ct', 'tg', 'gt'])\n",
    "assert set(find_common_kmers('cccaaaacccaaaacccaaaacccaaaa', 4, 4)) ==  set(['ccca', 'ccaa', 'caaa', 'aaaa'])\n",
    "assert set(find_common_kmers('tagctagtcg', 0, 2)) == set([])\n",
    "assert set(find_common_kmers('tagctagtcg', -3, 2)) == set([])"
   ]
  },
  {
   "cell_type": "markdown",
   "metadata": {},
   "source": [
    "We have re-introduced an old bug by rewriting the code to fix a different problem. This is called a **regression**. \n",
    "\n",
    "We have caught the bug before running it on any real life data. \n",
    "\n",
    "### Setting up and tearing down\n",
    "\n",
    "Our `find_common_kmers()` function has no **side effects**, which means that it's easy to test. \n",
    "\n",
    "Look at a function which does have side effects. We want to take a collection of reads and filter out any that have too many Ns:"
   ]
  },
  {
   "cell_type": "code",
   "execution_count": null,
   "metadata": {},
   "outputs": [],
   "source": [
    "def filter_reads(reads, threshold): \n",
    "    # iterate over a copy of the reads, so we don't alter the list as we're iterating over it\n",
    "    for read in list(reads): \n",
    "        if read.count('N') >= threshold: \n",
    "            reads.remove(read)"
   ]
  },
  {
   "cell_type": "markdown",
   "metadata": {},
   "source": [
    "Make some reads with 0/1/2 Ns:"
   ]
  },
  {
   "cell_type": "code",
   "execution_count": null,
   "metadata": {},
   "outputs": [],
   "source": [
    "reads = ['ATCGTAC', 'ACTGNTTACGT', 'ACTGNNTACTG']"
   ]
  },
  {
   "cell_type": "markdown",
   "metadata": {},
   "source": [
    "Now we'll test that it works with a threshold of one, which should cause the last two reads to be removed:"
   ]
  },
  {
   "cell_type": "code",
   "execution_count": null,
   "metadata": {},
   "outputs": [],
   "source": [
    "filter_reads(reads, 1)\n",
    "assert reads == ['ATCGTAC']"
   ]
  },
  {
   "cell_type": "markdown",
   "metadata": {},
   "source": [
    "Everything looks OK. Next, we'll test a threshold of two which should remove only the last read:"
   ]
  },
  {
   "cell_type": "code",
   "execution_count": null,
   "metadata": {},
   "outputs": [],
   "source": [
    "filter_reads(reads, 2)\n",
    "assert reads == ['ATCGTAC', 'ACTGNTTACGT']"
   ]
  },
  {
   "cell_type": "markdown",
   "metadata": {},
   "source": [
    "Of course, by the time we get to the second test, the last two reads have already been removed. We need to recreate the reads list each time:"
   ]
  },
  {
   "cell_type": "code",
   "execution_count": null,
   "metadata": {},
   "outputs": [],
   "source": [
    "reads = ['ATCGTAC', 'ACTGNTTACGT', 'ACTGNNTACTG']\n",
    "filter_reads(reads, 1)\n",
    "assert reads == ['ATCGTAC']\n",
    "\n",
    "reads = ['ATCGTAC', 'ACTGNTTACGT', 'ACTGNNTACTG']\n",
    "filter_reads(reads, 2)\n",
    "assert reads == ['ATCGTAC', 'ACTGNTTACGT']\n",
    "\n",
    "reads = ['ATCGTAC', 'ACTGNTTACGT', 'ACTGNNTACTG']\n",
    "filter_reads(reads, 3)\n",
    "assert reads == ['ATCGTAC', 'ACTGNTTACGT', 'ACTGNNTACTG']"
   ]
  },
  {
   "cell_type": "markdown",
   "metadata": {},
   "source": [
    "Imagine a much more complicated set-up scenario - most of the code will be set up. We can turn the set up stuff into a function:"
   ]
  },
  {
   "cell_type": "code",
   "execution_count": null,
   "metadata": {},
   "outputs": [],
   "source": [
    "reads = []\n",
    "def create_reads():\n",
    "    global reads\n",
    "    reads = ['ATCGTAC', 'ACTGNTTACGT', 'ACTGNNTACTG']\n",
    "\n",
    "create_reads()  \n",
    "filter_reads(reads, 1)\n",
    "assert reads == ['ATCGTAC']\n",
    "\n",
    "create_reads()\n",
    "filter_reads(reads, 2)\n",
    "assert reads == ['ATCGTAC', 'ACTGNTTACGT']\n",
    "\n",
    "create_reads()    \n",
    "filter_reads(reads, 3)\n",
    "assert reads == ['ATCGTAC', 'ACTGNTTACGT', 'ACTGNNTACTG']"
   ]
  },
  {
   "cell_type": "code",
   "execution_count": null,
   "metadata": {},
   "outputs": [],
   "source": []
  },
  {
   "cell_type": "code",
   "execution_count": null,
   "metadata": {},
   "outputs": [],
   "source": [
    "# ignore this cell, it's for loading custom js code\n",
    "from IPython.core.display import Javascript\n",
    "Javascript(filename=\"custom.js\")"
   ]
  },
  {
   "cell_type": "code",
   "execution_count": null,
   "metadata": {},
   "outputs": [],
   "source": [
    "# ignore this cell, it's for loading custom css code\n",
    "from IPython.core.display import HTML\n",
    "HTML(filename=\"custom.css\")"
   ]
  },
  {
   "cell_type": "code",
   "execution_count": null,
   "metadata": {},
   "outputs": [],
   "source": []
  }
 ],
 "metadata": {
  "anaconda-cloud": {},
  "kernelspec": {
   "display_name": "Python 3",
   "language": "python",
   "name": "python3"
  },
  "language_info": {
   "codemirror_mode": {
    "name": "ipython",
    "version": 3
   },
   "file_extension": ".py",
   "mimetype": "text/x-python",
   "name": "python",
   "nbconvert_exporter": "python",
   "pygments_lexer": "ipython3",
   "version": "3.6.5"
  }
 },
 "nbformat": 4,
 "nbformat_minor": 1
}
