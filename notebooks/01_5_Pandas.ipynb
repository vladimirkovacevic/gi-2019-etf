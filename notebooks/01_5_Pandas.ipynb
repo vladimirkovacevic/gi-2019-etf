{
 "cells": [
  {
   "cell_type": "markdown",
   "metadata": {
    "nbpresent": {
     "id": "902c36cc-2eca-4fa2-bd71-8819a1605265"
    }
   },
   "source": [
    "# Create simple dataframe (table) in Pandas"
   ]
  },
  {
   "cell_type": "code",
   "execution_count": null,
   "metadata": {
    "nbpresent": {
     "id": "cc639c51-a38d-4c82-a719-13974cf08c2a"
    }
   },
   "outputs": [],
   "source": [
    "import pandas as pd\n",
    "import numpy as np\n",
    "import matplotlib.pyplot as plt"
   ]
  },
  {
   "cell_type": "code",
   "execution_count": null,
   "metadata": {
    "nbpresent": {
     "id": "298c6a6b-b453-47c5-8597-4d4f3d6557cb"
    }
   },
   "outputs": [],
   "source": [
    "data = np.random.randn(4,3)\n",
    "display(data)\n",
    "df = pd.DataFrame(data)\n",
    "display(df)\n",
    "# Will give default names of columns (0, 1, 2 ,3) and rows (index)  - (0, 1, 2 ,3)"
   ]
  },
  {
   "cell_type": "code",
   "execution_count": null,
   "metadata": {
    "nbpresent": {
     "id": "226ded38-208e-42a6-a90c-545fd03c4e0a"
    }
   },
   "outputs": [],
   "source": [
    "cols = ['BRCA1', 'BRCA2', 'CD28']\n",
    "data =np.random.randint(0, 100, [4,3])\n",
    "df = pd.DataFrame(data, columns=cols) \n",
    "# Use TAB to show name of method or its argument\n",
    "df\n",
    "# Now we have column names"
   ]
  },
  {
   "cell_type": "code",
   "execution_count": null,
   "metadata": {
    "nbpresent": {
     "id": "5197df0e-8ebf-41af-b9cf-4594aa1c6515"
    }
   },
   "outputs": [],
   "source": [
    "# Access and change some value using index (row label) and column label\n",
    "print(df.loc[1, 'BRCA2'])\n",
    "df.loc[1, 'BRCA2'] = 42\n",
    "print(df.loc[1, 'BRCA2'])\n",
    "\n",
    "# Add another row\n",
    "df.loc[4] = [44, 52, 66]\n",
    "df\n",
    "# You can think of DataFrame as a dict of Series"
   ]
  },
  {
   "cell_type": "code",
   "execution_count": null,
   "metadata": {
    "nbpresent": {
     "id": "60678b25-ca7b-40d1-82e5-268c3fdbb519"
    }
   },
   "outputs": [],
   "source": [
    "# Remove row\n",
    "df.drop(index=1)\n",
    "df\n",
    "# Why it is still there?"
   ]
  },
  {
   "cell_type": "code",
   "execution_count": null,
   "metadata": {
    "nbpresent": {
     "id": "a4d6126f-5376-43f4-aec8-eb79b5742671"
    }
   },
   "outputs": [],
   "source": [
    "# Add another column\n",
    "date = pd.date_range('20180219', periods=5)\n",
    "df['Date'] = date # Columns are kept as Series inside DataFrame object\n",
    "df\n",
    "# We can combine different data types inside dataframe"
   ]
  },
  {
   "cell_type": "markdown",
   "metadata": {
    "nbpresent": {
     "id": "1784f007-a762-4738-b7c2-f4888bd56846"
    }
   },
   "source": [
    "# Dataframe info"
   ]
  },
  {
   "cell_type": "code",
   "execution_count": null,
   "metadata": {
    "nbpresent": {
     "id": "56087fe7-9bc3-4b42-bcc5-f3274364dc10"
    }
   },
   "outputs": [],
   "source": [
    "print(df.shape)\n",
    "print(df.columns)\n",
    "print(df.index)\n",
    "print(df.values)\n",
    "\n",
    "df.describe()"
   ]
  },
  {
   "cell_type": "markdown",
   "metadata": {
    "nbpresent": {
     "id": "6887f350-1f2f-4364-983f-20f3a079c462"
    }
   },
   "source": [
    "# Save dataframe to file and read from file"
   ]
  },
  {
   "cell_type": "code",
   "execution_count": null,
   "metadata": {
    "nbpresent": {
     "id": "91775d8a-d99e-4f78-bb6a-1fb96075a1bc"
    }
   },
   "outputs": [],
   "source": [
    "# Let's save it to file as .TSV\n",
    "df.to_csv('gene_expression.tsv', sep='\\t',index=None)\n",
    "df"
   ]
  },
  {
   "cell_type": "code",
   "execution_count": null,
   "metadata": {
    "nbpresent": {
     "id": "f074d690-a565-4f72-a651-0fa423bd47ed"
    }
   },
   "outputs": [],
   "source": [
    "# How can we load it from file?\n",
    "df2 = pd.read_csv('gene_expression.tsv', sep='\\t')\n",
    "df2\n",
    "# We got the default index again"
   ]
  },
  {
   "cell_type": "markdown",
   "metadata": {
    "nbpresent": {
     "id": "4cca9f7d-c0e9-4a32-a3e5-059e9458de95"
    }
   },
   "source": [
    "# Manipulation of dataframes"
   ]
  },
  {
   "cell_type": "code",
   "execution_count": null,
   "metadata": {
    "nbpresent": {
     "id": "1a6389f2-caa0-4eea-9e99-ebb5eeca17a1"
    }
   },
   "outputs": [],
   "source": [
    "df.sort_values(by='BRCA2', ascending=False)"
   ]
  },
  {
   "cell_type": "code",
   "execution_count": null,
   "metadata": {
    "nbpresent": {
     "id": "ce8024ca-a529-4e9d-bfb2-45326e5da274"
    }
   },
   "outputs": [],
   "source": [
    "# What will be the result?\n",
    "df - df2\n"
   ]
  },
  {
   "cell_type": "code",
   "execution_count": null,
   "metadata": {
    "nbpresent": {
     "id": "a47d3e18-4241-4cc7-960f-437aa66015fd"
    }
   },
   "outputs": [],
   "source": [
    "df3 = df.drop(['Date'], axis=1) - df2.drop(['Date'], axis=1)\n",
    "# axis: Whether to drop labels from the index (0 / ‘index’) or columns (1 / ‘columns’)\n",
    "df3['Date'] = df['Date']\n",
    "df3"
   ]
  },
  {
   "cell_type": "code",
   "execution_count": null,
   "metadata": {
    "nbpresent": {
     "id": "5d3a062c-92d5-477b-b30f-e35946d36ead"
    }
   },
   "outputs": [],
   "source": [
    "# Apply function to dataframe element wise\n",
    "def func(x):\n",
    "    return (x + 42) if isinstance(x, int) else x\n",
    "\n",
    "df2 = df.applymap(func)\n",
    "display(df)\n",
    "display(df2)\n"
   ]
  },
  {
   "cell_type": "code",
   "execution_count": null,
   "metadata": {
    "nbpresent": {
     "id": "ff46426c-743a-405d-95bd-5097b97a23ce"
    }
   },
   "outputs": [],
   "source": [
    "# More pythonic way using labda function definition\n",
    "df2 = df.applymap(lambda x: x + 42 if isinstance(x, int) else x)\n",
    "display(df)\n",
    "display(df2)"
   ]
  },
  {
   "cell_type": "code",
   "execution_count": null,
   "metadata": {},
   "outputs": [],
   "source": [
    "df.apply(lambda x: x.max() - x.min()) # Runs function for every column (Series)"
   ]
  },
  {
   "cell_type": "code",
   "execution_count": null,
   "metadata": {},
   "outputs": [],
   "source": [
    "# Creates histogram of values\n",
    "df.drop('Date', axis=1).apply(lambda x: x.value_counts()) \n"
   ]
  },
  {
   "cell_type": "code",
   "execution_count": null,
   "metadata": {},
   "outputs": [],
   "source": [
    "# Transpose dataframe\n",
    "df.T"
   ]
  },
  {
   "cell_type": "markdown",
   "metadata": {
    "nbpresent": {
     "id": "0b7de911-c9eb-4a4d-ba60-5b653ba381a1"
    }
   },
   "source": [
    "# Selection inside dataframe"
   ]
  },
  {
   "cell_type": "code",
   "execution_count": null,
   "metadata": {
    "nbpresent": {
     "id": "616c1e25-ab3a-4158-b717-2efe42db3ec5"
    }
   },
   "outputs": [],
   "source": [
    "# Show only rows with BRCA2 value in range (40, 60)\n",
    "df3 = df.applymap(lambda x: x + 42 if isinstance(x, int) else x)\n",
    "\n",
    "df3.reset_index(inplace=True, drop=True)\n",
    "df3['BRCA2'] > 40\n",
    "\n",
    "\n"
   ]
  },
  {
   "cell_type": "code",
   "execution_count": null,
   "metadata": {
    "nbpresent": {
     "id": "6946bfcc-b867-4ebc-bc44-00b2b09a3e0d"
    }
   },
   "outputs": [],
   "source": [
    "# What is wrong with this?\n",
    "df3['BRCA2'] > 40 & df3['BRCA2'] < 60"
   ]
  },
  {
   "cell_type": "code",
   "execution_count": null,
   "metadata": {
    "nbpresent": {
     "id": "2e658dbc-430c-4cb5-a769-bc0b95d2ca83"
    }
   },
   "outputs": [],
   "source": [
    "# Priority of operators!\n",
    "print((df3['BRCA2'] > 40) & (df3['BRCA2'] < 60))\n",
    "df3[(df3['BRCA2'] > 40) & (df3['BRCA2'] < 60)]"
   ]
  },
  {
   "cell_type": "code",
   "execution_count": null,
   "metadata": {},
   "outputs": [],
   "source": [
    "# Accessing dataframe\n",
    "display(df.loc[:2]) # Treats 2 as label and returns number of row up to this label\n",
    "display(df.iloc[:2]) # Treats 2 as index range, and returns always first 2 rows\n"
   ]
  },
  {
   "cell_type": "code",
   "execution_count": null,
   "metadata": {},
   "outputs": [],
   "source": [
    "new_df = df.sort_values(by='BRCA1')\n",
    "display(new_df)\n",
    "display(new_df.loc[:2]) # Treats 2 as label and returns number of row up to this label\n",
    "display(new_df.iloc[:2]) # Treats 2 as index range, and returns always first 2 rows"
   ]
  },
  {
   "cell_type": "code",
   "execution_count": null,
   "metadata": {},
   "outputs": [],
   "source": [
    "df.loc[3:5, ['BRCA1','BRCA2']]\n",
    "# or df[['BRCA1','BRCA2']]\n"
   ]
  },
  {
   "cell_type": "code",
   "execution_count": null,
   "metadata": {},
   "outputs": [],
   "source": [
    "df.iloc[3:5,0:2]"
   ]
  },
  {
   "cell_type": "code",
   "execution_count": null,
   "metadata": {},
   "outputs": [],
   "source": [
    "df.loc[3, 'BRCA1'] = 99"
   ]
  },
  {
   "cell_type": "code",
   "execution_count": null,
   "metadata": {
    "nbpresent": {
     "id": "2f2a3d1b-a33b-4792-96ec-66b60df7e822"
    }
   },
   "outputs": [],
   "source": [
    "df3 = df.append(df2)\n",
    "display(df3)\n",
    "means_df = df3.groupby(by='Date').mean()\n",
    "means_df\n",
    "# Groupby output format – Series or DataFrame?\n"
   ]
  },
  {
   "cell_type": "markdown",
   "metadata": {},
   "source": [
    "# Missing values\n"
   ]
  },
  {
   "cell_type": "code",
   "execution_count": null,
   "metadata": {},
   "outputs": [],
   "source": [
    "# pandas primarily uses the value np.nan to represent missing data\n",
    "missing_df = df.copy()\n",
    "missing_df['HLA'] = [3, 44, 45, np.nan, 66]\n",
    "display(missing_df)\n",
    "missing_df.to_csv('gene_expression.tsv', index=False, sep='\\t')\n",
    "# Let's remove some data from file"
   ]
  },
  {
   "cell_type": "code",
   "execution_count": null,
   "metadata": {},
   "outputs": [],
   "source": [
    "missing_df = pd.read_csv('gene_expression.tsv', sep='\\t')\n",
    "missing_df"
   ]
  },
  {
   "cell_type": "code",
   "execution_count": null,
   "metadata": {},
   "outputs": [],
   "source": [
    "# Fill NAN values with zero\n",
    "missing_df.fillna(0)"
   ]
  },
  {
   "cell_type": "markdown",
   "metadata": {},
   "source": [
    "# Concat, join, merge and  of dataframes"
   ]
  },
  {
   "cell_type": "code",
   "execution_count": null,
   "metadata": {
    "nbpresent": {
     "id": "f65320c4-a844-4203-90db-6f96ef0e2ec0"
    }
   },
   "outputs": [],
   "source": [
    "df2 = df.applymap(lambda x: x + 42 if isinstance(x, int) else x)\n",
    "display(df)\n",
    "display(df2)\n",
    "df3 = pd.concat([df, df2]) # Creates new object\n",
    "# Same as df.append(df2)\n",
    "display(df3)\n",
    "display(df3.loc[1])\n",
    "\n",
    "\n"
   ]
  },
  {
   "cell_type": "code",
   "execution_count": null,
   "metadata": {
    "nbpresent": {
     "id": "753840da-eebf-42e2-91af-0b1309a47f8e"
    }
   },
   "outputs": [],
   "source": [
    "df3.reset_index(inplace=True, drop=True) # Drop old index (do not save it as new column)\n",
    "df3"
   ]
  },
  {
   "cell_type": "code",
   "execution_count": null,
   "metadata": {},
   "outputs": [],
   "source": [
    "cols = ['Bcl-2', 'HIF1A']\n",
    "data =np.random.randint(0, 100, [4,2])\n",
    "df2 = pd.DataFrame(data, columns=cols)\n",
    "df2['Date'] = pd.date_range('20180219', periods=4)\n",
    "display(df)\n",
    "display(df2)\n",
    "# SQL style merges\n",
    "df.merge(df2, on='Date') # But we lost one row of df: (how='left')\n",
    "# How many output rows we will get if we change start date range on df2 to '20180221'?"
   ]
  },
  {
   "cell_type": "code",
   "execution_count": null,
   "metadata": {},
   "outputs": [],
   "source": [
    "df2 = df\n",
    "df2['Temperature'] = np.random.randint(20, 60, [5,1])\n",
    "df2.plot.scatter(x='BRCA1', y='BRCA2', c='Temperature', s=60);"
   ]
  },
  {
   "cell_type": "code",
   "execution_count": null,
   "metadata": {},
   "outputs": [],
   "source": [
    "df.plot(x='Date')"
   ]
  },
  {
   "cell_type": "code",
   "execution_count": null,
   "metadata": {},
   "outputs": [],
   "source": []
  }
 ],
 "metadata": {
  "anaconda-cloud": {},
  "kernelspec": {
   "display_name": "Python 3",
   "language": "python",
   "name": "python3"
  },
  "language_info": {
   "codemirror_mode": {
    "name": "ipython",
    "version": 3
   },
   "file_extension": ".py",
   "mimetype": "text/x-python",
   "name": "python",
   "nbconvert_exporter": "python",
   "pygments_lexer": "ipython3",
   "version": "3.4.3"
  },
  "nbpresent": {
   "slides": {
    "019a1e6b-f13c-4535-9b6e-ed7efab4866b": {
     "id": "019a1e6b-f13c-4535-9b6e-ed7efab4866b",
     "prev": "2c73e820-a695-44b9-9720-9a1e4779789b",
     "regions": {
      "f8a02cbc-da41-412c-8304-53fa186d122b": {
       "attrs": {
        "height": 0.8,
        "width": 0.8,
        "x": 0.1,
        "y": 0.1
       },
       "content": {
        "cell": "ed942a2e-ac36-42e8-9938-433a3106c238",
        "part": "whole"
       },
       "id": "f8a02cbc-da41-412c-8304-53fa186d122b"
      }
     }
    },
    "06733a7c-e137-4de8-8923-c8999738800c": {
     "id": "06733a7c-e137-4de8-8923-c8999738800c",
     "prev": "bece4fa3-19ba-40c1-ba4f-5bdcb83d1bd6",
     "regions": {
      "4b3bd450-2cd3-4612-9555-64727598dd15": {
       "attrs": {
        "height": 0.8,
        "width": 0.8,
        "x": 0.1,
        "y": 0.1
       },
       "content": {
        "cell": "ff46426c-743a-405d-95bd-5097b97a23ce",
        "part": "whole"
       },
       "id": "4b3bd450-2cd3-4612-9555-64727598dd15"
      }
     }
    },
    "073bcfa4-5e76-4e3f-93f9-dc4dfbe1b73a": {
     "id": "073bcfa4-5e76-4e3f-93f9-dc4dfbe1b73a",
     "prev": "e2539356-9f1e-47c6-94c3-88cdee4f16b2",
     "regions": {
      "f0b39c5e-0cf7-452b-be11-a4562a1ea854": {
       "attrs": {
        "height": 0.8,
        "width": 0.8,
        "x": 0.1,
        "y": 0.1
       },
       "content": {
        "cell": "56087fe7-9bc3-4b42-bcc5-f3274364dc10",
        "part": "whole"
       },
       "id": "f0b39c5e-0cf7-452b-be11-a4562a1ea854"
      }
     }
    },
    "08545147-4374-4f06-a22a-cfb26aafe72c": {
     "id": "08545147-4374-4f06-a22a-cfb26aafe72c",
     "prev": null,
     "regions": {
      "1abbc2ae-17ca-49df-9ed5-5fbaa5cda182": {
       "attrs": {
        "height": 0.8,
        "width": 0.8,
        "x": 0.1,
        "y": 0.1
       },
       "content": {
        "cell": "902c36cc-2eca-4fa2-bd71-8819a1605265",
        "part": "whole"
       },
       "id": "1abbc2ae-17ca-49df-9ed5-5fbaa5cda182"
      }
     }
    },
    "08fb5f21-0533-48d3-b8c7-59a157f676d3": {
     "id": "08fb5f21-0533-48d3-b8c7-59a157f676d3",
     "prev": "7401f434-e024-46f7-a871-d50ac57535f4",
     "regions": {
      "aef8ae8e-7b25-4470-ac7e-5aadb7e96b46": {
       "attrs": {
        "height": 0.8,
        "width": 0.8,
        "x": 0.1,
        "y": 0.1
       },
       "content": {
        "cell": "a4d6126f-5376-43f4-aec8-eb79b5742671",
        "part": "whole"
       },
       "id": "aef8ae8e-7b25-4470-ac7e-5aadb7e96b46"
      }
     }
    },
    "0b5bb635-0189-49fe-92b7-771d7adce921": {
     "id": "0b5bb635-0189-49fe-92b7-771d7adce921",
     "prev": "a515c415-fdab-45fa-92d5-e90f857951d0",
     "regions": {
      "ced90741-51ba-4d42-ba4f-198f6bf3c1d1": {
       "attrs": {
        "height": 0.8,
        "width": 0.8,
        "x": 0.1,
        "y": 0.1
       },
       "content": {
        "cell": "60678b25-ca7b-40d1-82e5-268c3fdbb519",
        "part": "whole"
       },
       "id": "ced90741-51ba-4d42-ba4f-198f6bf3c1d1"
      }
     }
    },
    "0ffdf7c6-d15f-41dc-9b98-bff365793a48": {
     "id": "0ffdf7c6-d15f-41dc-9b98-bff365793a48",
     "prev": "14b76adc-ddb1-4ce5-b61b-7306485ed37e",
     "regions": {
      "f24dc595-5ffb-489d-b99f-9d118a813d76": {
       "attrs": {
        "height": 0.8,
        "width": 0.8,
        "x": 0.1,
        "y": 0.1
       },
       "content": {
        "cell": "ce8024ca-a529-4e9d-bfb2-45326e5da274",
        "part": "whole"
       },
       "id": "f24dc595-5ffb-489d-b99f-9d118a813d76"
      }
     }
    },
    "14b76adc-ddb1-4ce5-b61b-7306485ed37e": {
     "id": "14b76adc-ddb1-4ce5-b61b-7306485ed37e",
     "prev": "fd00108f-59ed-4417-97a8-47827db6f79e",
     "regions": {
      "65aa5c1a-d69d-4a76-a7e3-3fade16801cf": {
       "attrs": {
        "height": 0.8,
        "width": 0.8,
        "x": 0.1,
        "y": 0.1
       },
       "content": {
        "cell": "1a6389f2-caa0-4eea-9e99-ebb5eeca17a1",
        "part": "whole"
       },
       "id": "65aa5c1a-d69d-4a76-a7e3-3fade16801cf"
      }
     }
    },
    "2117c87f-ce7e-4a53-b99d-d7ec72509ad3": {
     "id": "2117c87f-ce7e-4a53-b99d-d7ec72509ad3",
     "prev": "073bcfa4-5e76-4e3f-93f9-dc4dfbe1b73a",
     "regions": {
      "90964085-19ea-4cf5-8380-d27c22f9a2da": {
       "attrs": {
        "height": 0.8,
        "width": 0.8,
        "x": 0.1,
        "y": 0.1
       },
       "content": {
        "cell": "6887f350-1f2f-4364-983f-20f3a079c462",
        "part": "whole"
       },
       "id": "90964085-19ea-4cf5-8380-d27c22f9a2da"
      }
     }
    },
    "2c73e820-a695-44b9-9720-9a1e4779789b": {
     "id": "2c73e820-a695-44b9-9720-9a1e4779789b",
     "prev": "dde10cf6-3795-4af0-90c4-2b1d1d181979",
     "regions": {
      "4ec903f6-6e5f-4f8b-aaa9-071f30fc5500": {
       "attrs": {
        "height": 0.8,
        "width": 0.8,
        "x": 0.1,
        "y": 0.1
       },
       "content": {
        "cell": "2f2a3d1b-a33b-4792-96ec-66b60df7e822",
        "part": "whole"
       },
       "id": "4ec903f6-6e5f-4f8b-aaa9-071f30fc5500"
      }
     }
    },
    "654e8e05-b07e-4755-8d99-9f26bd28bb3c": {
     "id": "654e8e05-b07e-4755-8d99-9f26bd28bb3c",
     "prev": "06733a7c-e137-4de8-8923-c8999738800c",
     "regions": {
      "d44935ed-9357-4e62-aa27-56574375eeaf": {
       "attrs": {
        "height": 0.8,
        "width": 0.8,
        "x": 0.1,
        "y": 0.1
       },
       "content": {
        "cell": "f65320c4-a844-4203-90db-6f96ef0e2ec0",
        "part": "whole"
       },
       "id": "d44935ed-9357-4e62-aa27-56574375eeaf"
      }
     }
    },
    "7401f434-e024-46f7-a871-d50ac57535f4": {
     "id": "7401f434-e024-46f7-a871-d50ac57535f4",
     "prev": "0b5bb635-0189-49fe-92b7-771d7adce921",
     "regions": {
      "c7c8288c-d44c-41fe-b38f-a9be439f3f9a": {
       "attrs": {
        "height": 0.8,
        "width": 0.8,
        "x": 0.1,
        "y": 0.1
       },
       "content": {
        "cell": "4ffec702-56d0-4a13-8022-22b48fe3d6fa",
        "part": "whole"
       },
       "id": "c7c8288c-d44c-41fe-b38f-a9be439f3f9a"
      }
     }
    },
    "8480db01-b680-4806-8575-8246fe34b620": {
     "id": "8480db01-b680-4806-8575-8246fe34b620",
     "prev": "a6768d67-640f-4a7a-b100-292167a09c77",
     "regions": {
      "e8fcd766-0af2-4a5b-b9ba-f968ec55320f": {
       "attrs": {
        "height": 0.8,
        "width": 0.8,
        "x": 0.1,
        "y": 0.1
       },
       "content": {
        "cell": "298c6a6b-b453-47c5-8597-4d4f3d6557cb",
        "part": "whole"
       },
       "id": "e8fcd766-0af2-4a5b-b9ba-f968ec55320f"
      }
     }
    },
    "8a8dbeb6-3869-4a0f-be69-750efe05c801": {
     "id": "8a8dbeb6-3869-4a0f-be69-750efe05c801",
     "prev": "bcc09354-e744-4f38-8d8d-d81a8b3c31ec",
     "regions": {
      "92d152b1-9166-4fb6-a528-d0b883be1982": {
       "attrs": {
        "height": 0.8,
        "width": 0.8,
        "x": 0.1,
        "y": 0.1
       },
       "content": {
        "cell": "f074d690-a565-4f72-a651-0fa423bd47ed",
        "part": "whole"
       },
       "id": "92d152b1-9166-4fb6-a528-d0b883be1982"
      }
     }
    },
    "9aac1c19-016a-4459-aa12-a5faedcc4b1b": {
     "id": "9aac1c19-016a-4459-aa12-a5faedcc4b1b",
     "prev": "08545147-4374-4f06-a22a-cfb26aafe72c",
     "regions": {
      "a6c43e24-ebfd-49ba-84bb-3c641213bdf7": {
       "attrs": {
        "height": 0.8,
        "width": 0.8,
        "x": 0.1,
        "y": 0.1
       },
       "content": {
        "cell": "cc639c51-a38d-4c82-a719-13974cf08c2a",
        "part": "whole"
       },
       "id": "a6c43e24-ebfd-49ba-84bb-3c641213bdf7"
      }
     }
    },
    "a515c415-fdab-45fa-92d5-e90f857951d0": {
     "id": "a515c415-fdab-45fa-92d5-e90f857951d0",
     "prev": "8480db01-b680-4806-8575-8246fe34b620",
     "regions": {
      "a36af0e0-494e-4cf1-9536-08c565634722": {
       "attrs": {
        "height": 0.8,
        "width": 0.8,
        "x": 0.1,
        "y": 0.1
       },
       "content": {
        "cell": "5197df0e-8ebf-41af-b9cf-4594aa1c6515",
        "part": "whole"
       },
       "id": "a36af0e0-494e-4cf1-9536-08c565634722"
      }
     }
    },
    "a6768d67-640f-4a7a-b100-292167a09c77": {
     "id": "a6768d67-640f-4a7a-b100-292167a09c77",
     "prev": "9aac1c19-016a-4459-aa12-a5faedcc4b1b",
     "regions": {
      "922fdb7f-cbfd-470d-a63e-e468d30982f5": {
       "attrs": {
        "height": 0.8,
        "width": 0.8,
        "x": 0.1,
        "y": 0.1
       },
       "content": {
        "cell": "226ded38-208e-42a6-a90c-545fd03c4e0a",
        "part": "whole"
       },
       "id": "922fdb7f-cbfd-470d-a63e-e468d30982f5"
      }
     }
    },
    "bcc09354-e744-4f38-8d8d-d81a8b3c31ec": {
     "id": "bcc09354-e744-4f38-8d8d-d81a8b3c31ec",
     "prev": "2117c87f-ce7e-4a53-b99d-d7ec72509ad3",
     "regions": {
      "7038778e-6ec1-498a-b247-96dadf98898f": {
       "attrs": {
        "height": 0.8,
        "width": 0.8,
        "x": 0.1,
        "y": 0.1
       },
       "content": {
        "cell": "91775d8a-d99e-4f78-bb6a-1fb96075a1bc",
        "part": "whole"
       },
       "id": "7038778e-6ec1-498a-b247-96dadf98898f"
      }
     }
    },
    "bece4fa3-19ba-40c1-ba4f-5bdcb83d1bd6": {
     "id": "bece4fa3-19ba-40c1-ba4f-5bdcb83d1bd6",
     "prev": "ceaa84b0-ea34-4488-a770-60d3c336c5a0",
     "regions": {
      "bd67a61b-1888-4757-ac17-d4e15c706ab6": {
       "attrs": {
        "height": 0.8,
        "width": 0.8,
        "x": 0.1,
        "y": 0.1
       },
       "content": {
        "cell": "5d3a062c-92d5-477b-b30f-e35946d36ead",
        "part": "whole"
       },
       "id": "bd67a61b-1888-4757-ac17-d4e15c706ab6"
      }
     }
    },
    "ceaa84b0-ea34-4488-a770-60d3c336c5a0": {
     "id": "ceaa84b0-ea34-4488-a770-60d3c336c5a0",
     "prev": "0ffdf7c6-d15f-41dc-9b98-bff365793a48",
     "regions": {
      "9ee8e41d-49a2-4d85-b00c-b328fcee524c": {
       "attrs": {
        "height": 0.8,
        "width": 0.8,
        "x": 0.1,
        "y": 0.1
       },
       "content": {
        "cell": "a47d3e18-4241-4cc7-960f-437aa66015fd",
        "part": "whole"
       },
       "id": "9ee8e41d-49a2-4d85-b00c-b328fcee524c"
      }
     }
    },
    "d9967c2c-6050-4cff-b81f-4a6a9de0ee75": {
     "id": "d9967c2c-6050-4cff-b81f-4a6a9de0ee75",
     "prev": "654e8e05-b07e-4755-8d99-9f26bd28bb3c",
     "regions": {
      "df18ef72-2828-4ae3-96da-6e50d3d5538a": {
       "attrs": {
        "height": 0.8,
        "width": 0.8,
        "x": 0.1,
        "y": 0.1
       },
       "content": {
        "cell": "753840da-eebf-42e2-91af-0b1309a47f8e",
        "part": "whole"
       },
       "id": "df18ef72-2828-4ae3-96da-6e50d3d5538a"
      }
     }
    },
    "dde10cf6-3795-4af0-90c4-2b1d1d181979": {
     "id": "dde10cf6-3795-4af0-90c4-2b1d1d181979",
     "prev": "e9ca7aac-3a65-45f8-a5c1-8ce2183ae0d9",
     "regions": {
      "e49eface-15b5-4fb2-a08e-d6785a957976": {
       "attrs": {
        "height": 0.8,
        "width": 0.8,
        "x": 0.1,
        "y": 0.1
       },
       "content": {
        "cell": "2e658dbc-430c-4cb5-a769-bc0b95d2ca83",
        "part": "whole"
       },
       "id": "e49eface-15b5-4fb2-a08e-d6785a957976"
      }
     }
    },
    "e2539356-9f1e-47c6-94c3-88cdee4f16b2": {
     "id": "e2539356-9f1e-47c6-94c3-88cdee4f16b2",
     "prev": "08fb5f21-0533-48d3-b8c7-59a157f676d3",
     "regions": {
      "16b7c835-fd1a-40a7-b1f0-d4d369a2cfe8": {
       "attrs": {
        "height": 0.8,
        "width": 0.8,
        "x": 0.1,
        "y": 0.1
       },
       "content": {
        "cell": "1784f007-a762-4738-b7c2-f4888bd56846",
        "part": "whole"
       },
       "id": "16b7c835-fd1a-40a7-b1f0-d4d369a2cfe8"
      }
     }
    },
    "e9ca7aac-3a65-45f8-a5c1-8ce2183ae0d9": {
     "id": "e9ca7aac-3a65-45f8-a5c1-8ce2183ae0d9",
     "prev": "ecbd3222-eba6-48ed-a077-bacb1756ef38",
     "regions": {
      "dfa0bb3f-7fa1-415e-b797-99548ce21152": {
       "attrs": {
        "height": 0.8,
        "width": 0.8,
        "x": 0.1,
        "y": 0.1
       },
       "content": {
        "cell": "6946bfcc-b867-4ebc-bc44-00b2b09a3e0d",
        "part": "whole"
       },
       "id": "dfa0bb3f-7fa1-415e-b797-99548ce21152"
      }
     }
    },
    "ecbd3222-eba6-48ed-a077-bacb1756ef38": {
     "id": "ecbd3222-eba6-48ed-a077-bacb1756ef38",
     "prev": "ecd330cb-57f9-44ee-b7d3-5f262f89c47e",
     "regions": {
      "dec12aaf-8e48-4d43-ada1-f5a171821332": {
       "attrs": {
        "height": 0.8,
        "width": 0.8,
        "x": 0.1,
        "y": 0.1
       },
       "content": {
        "cell": "616c1e25-ab3a-4158-b717-2efe42db3ec5",
        "part": "whole"
       },
       "id": "dec12aaf-8e48-4d43-ada1-f5a171821332"
      }
     }
    },
    "ecd330cb-57f9-44ee-b7d3-5f262f89c47e": {
     "id": "ecd330cb-57f9-44ee-b7d3-5f262f89c47e",
     "prev": "d9967c2c-6050-4cff-b81f-4a6a9de0ee75",
     "regions": {
      "2a86559a-364f-424f-afab-9855e0d74296": {
       "attrs": {
        "height": 0.8,
        "width": 0.8,
        "x": 0.1,
        "y": 0.1
       },
       "content": {
        "cell": "0b7de911-c9eb-4a4d-ba60-5b653ba381a1",
        "part": "whole"
       },
       "id": "2a86559a-364f-424f-afab-9855e0d74296"
      }
     }
    },
    "fd00108f-59ed-4417-97a8-47827db6f79e": {
     "id": "fd00108f-59ed-4417-97a8-47827db6f79e",
     "prev": "8a8dbeb6-3869-4a0f-be69-750efe05c801",
     "regions": {
      "b11a93f2-5852-4fb2-932b-8c097fcf60af": {
       "attrs": {
        "height": 0.8,
        "width": 0.8,
        "x": 0.1,
        "y": 0.1
       },
       "content": {
        "cell": "4cca9f7d-c0e9-4a32-a3e5-059e9458de95",
        "part": "whole"
       },
       "id": "b11a93f2-5852-4fb2-932b-8c097fcf60af"
      }
     }
    }
   },
   "themes": {}
  }
 },
 "nbformat": 4,
 "nbformat_minor": 1
}
