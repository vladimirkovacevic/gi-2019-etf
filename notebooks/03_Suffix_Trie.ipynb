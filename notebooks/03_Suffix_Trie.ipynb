{
 "cells": [
  {
   "cell_type": "code",
   "execution_count": null,
   "metadata": {},
   "outputs": [],
   "source": [
    "class SuffixTrie(object):\n",
    "    \n",
    "    def __init__(self, t):\n",
    "        \"\"\" Make suffix trie from t \"\"\"\n",
    "        t += '$' # special terminator symbol\n",
    "        self.root = {}\n",
    "        for i in range(len(t)): # for each suffix\n",
    "            cur = self.root\n",
    "            for c in t[i:]: # for each character in i'th suffix\n",
    "                if c not in cur:\n",
    "                    cur[c] = {} # add outgoing edge if necessary\n",
    "                cur = cur[c]\n",
    "    \n",
    "    def followPath(self, s):\n",
    "        \"\"\" Follow path given by characters of s.  Return node at\n",
    "            end of path, or None if we fall off. \"\"\"\n",
    "        cur = self.root\n",
    "        for c in s:\n",
    "            if c not in cur:\n",
    "                return None\n",
    "            cur = cur[c]\n",
    "        return cur\n",
    "    \n",
    "    def hasSubstring(self, s):\n",
    "        \"\"\" Return true iff s appears as a substring of t \"\"\"\n",
    "        return self.followPath(s) is not None\n",
    "    \n",
    "    def hasSuffix(self, s):\n",
    "        \"\"\" Return true iff s is a suffix of t \"\"\"\n",
    "        node = self.followPath(s)\n",
    "        return node is not None and '$' in node"
   ]
  },
  {
   "cell_type": "code",
   "execution_count": null,
   "metadata": {},
   "outputs": [],
   "source": [
    "strie = SuffixTrie('there would have been a time for such a word')"
   ]
  },
  {
   "cell_type": "code",
   "execution_count": null,
   "metadata": {},
   "outputs": [],
   "source": [
    "strie.hasSubstring('nope')"
   ]
  },
  {
   "cell_type": "code",
   "execution_count": null,
   "metadata": {},
   "outputs": [],
   "source": [
    "strie.hasSubstring('would have been')"
   ]
  },
  {
   "cell_type": "code",
   "execution_count": null,
   "metadata": {},
   "outputs": [],
   "source": [
    "strie.hasSubstring('such a word')"
   ]
  },
  {
   "cell_type": "code",
   "execution_count": null,
   "metadata": {},
   "outputs": [],
   "source": [
    "strie.hasSuffix('would have been')"
   ]
  },
  {
   "cell_type": "code",
   "execution_count": null,
   "metadata": {},
   "outputs": [],
   "source": [
    "strie.hasSuffix('such a word')"
   ]
  },
  {
   "cell_type": "code",
   "execution_count": null,
   "metadata": {},
   "outputs": [],
   "source": []
  }
 ],
 "metadata": {
  "kernelspec": {
   "display_name": "Python 3",
   "language": "python",
   "name": "python3"
  },
  "language_info": {
   "codemirror_mode": {
    "name": "ipython",
    "version": 3
   },
   "file_extension": ".py",
   "mimetype": "text/x-python",
   "name": "python",
   "nbconvert_exporter": "python",
   "pygments_lexer": "ipython3",
   "version": "3.6.5"
  }
 },
 "nbformat": 4,
 "nbformat_minor": 1
}
