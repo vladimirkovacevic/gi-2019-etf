{
 "cells": [
  {
   "cell_type": "markdown",
   "metadata": {},
   "source": [
    "# Longest common subsequence"
   ]
  },
  {
   "cell_type": "markdown",
   "metadata": {},
   "source": [
    "A subsequence of S is a sequence of characters from S in the same relative order as in S, but not necessarily consecutive.\n",
    "\n",
    "\n",
    "**Longest common subsequence problem:** for strings S1 and S2 find longest common subsequence.\n",
    "\n",
    "As *Gusfiled 1.16.2* states: With a scoring scheme that scores a one for each match and a zero for each mismatch or space, the matched characters in alignment of maximum value form a longest common subsequence.\n",
    "\n",
    "What we also need to do is penalize mismatch more than insertion/deletion. We can do this in two ways:\n",
    "\n",
    "1. Use such scoring matrix that penalizes mismatch the most. In LCS case that can be - one for match, minus one for mismatch, and zero for insertion/deletion. This is one way to ensure mismatch (replacement) edit operation won't be used.\n",
    "\n",
    "2. Use such recurrence relation where mismathc opertation is prohibited. We check if S1(i) and S2(j) are matching. In that case we check score for three possible edit operations (match, insertion, deletion). If they don't match we check only insertion and deletion score, since mismatch is prohibited. "
   ]
  },
  {
   "cell_type": "markdown",
   "metadata": {},
   "source": [
    "\"matched characters in alignment of maximum value form a longest common subsequence\" - we're looking for all characters in alignment that match. That is, when we're doing the backtrace we're interested only in strings that match and we're storing only these ones."
   ]
  },
  {
   "cell_type": "code",
   "execution_count": 1,
   "metadata": {
    "collapsed": true
   },
   "outputs": [],
   "source": [
    "def traceLCS(x,y,D):\n",
    "    i=len(x)\n",
    "    j=len(y)\n",
    "    traceLCS = ''\n",
    "    while i>0 and j>0:\n",
    "        d, v, h = 0, 0, 0\n",
    "\n",
    "        if j>0: h = D[i,j-1] #needs checking (if j>0)\n",
    "        if i>0: v = D[i-1,j] #needs checking (if i >0)\n",
    "        if i>0 and j>0: \n",
    "            delt = 1 if x[i-1] == y[j-1] else -1\n",
    "            d = D[i-1,j-1] + delt\n",
    "        if d >= v and d >= h:\n",
    "            # diagonall move doesn't have to mean that character is match\n",
    "            # we check if it's match, if yes, append LCS\n",
    "            #since we've penalized mismatch the most we don't even need this checking\n",
    "            if delt == 1: traceLCS+=(x[i-1])\n",
    "            i=i-1\n",
    "            j=j-1\n",
    "        elif v>=h:\n",
    "            i=i-1\n",
    "        else:\n",
    "            j=j-1\n",
    "    # we need to invert function\n",
    "    return traceLCS[::-1]"
   ]
  },
  {
   "cell_type": "markdown",
   "metadata": {},
   "source": [
    "As mentioned above scoring schema gives one for each match, and zero for enything but match. Mismatch is penalized, so it should never be used as edit operation (instead we would use insertion/deletion). This means that value in lower right cell (n,m) is actually LCS length. Also, because of this particular scoring we're not going to implement separate scoring function, we'll just ajdust it in *findLCS*.\n",
    "\n",
    "We'll write *findLCS* function which returns the table, longes common substring, and substring length."
   ]
  },
  {
   "cell_type": "code",
   "execution_count": 2,
   "metadata": {
    "collapsed": true
   },
   "outputs": [],
   "source": [
    "import numpy\n",
    "\n",
    "def findLCS(x,y, traceback):\n",
    "    D = numpy.zeros((len(x)+1, len(y)+1), dtype=int)\n",
    "    D[0,1:]=0;\n",
    "    D[1:,0]=0;\n",
    "    for i in range(1,len(x)+1):\n",
    "        for j in range(1, len(y)+1):\n",
    "            sigma = 1 if x[i-1]==y[j-1] else -1\n",
    "            D[i,j]=max(D[i-1,j-1]+sigma, \n",
    "                       D[i-1,j], \n",
    "                       D[i, j-1])\n",
    "    \n",
    "    return D, traceback(x,y,D), D[len(x),len(y)]"
   ]
  },
  {
   "cell_type": "code",
   "execution_count": 3,
   "metadata": {
    "collapsed": true
   },
   "outputs": [],
   "source": [
    "D, lcs, lenLCS = findLCS('ATCTGAT','TGCATA', traceLCS)"
   ]
  },
  {
   "cell_type": "code",
   "execution_count": 4,
   "metadata": {},
   "outputs": [
    {
     "name": "stdout",
     "output_type": "stream",
     "text": [
      "Longest common substring has length 4 and is TCTA.\n",
      "Table is:\n",
      " [[0 0 0 0 0 0 0]\n",
      " [0 0 0 0 1 1 1]\n",
      " [0 1 1 1 1 2 2]\n",
      " [0 1 1 2 2 2 2]\n",
      " [0 1 1 2 2 3 3]\n",
      " [0 1 2 2 2 3 3]\n",
      " [0 1 2 2 3 3 4]\n",
      " [0 1 2 2 3 4 4]]\n"
     ]
    }
   ],
   "source": [
    "print(\"Longest common substring has length %s and is %s.\" % (lenLCS, lcs))\n",
    "print('Table is:\\n', D)"
   ]
  },
  {
   "cell_type": "markdown",
   "metadata": {},
   "source": [
    "Second approach is changing recurrence relation (tabular computation) in such way that mismatch is prohibited. Example code is given bellow. As mentioned above is strings on given postion are not matching, we only calculate scores for insertion/deletion."
   ]
  },
  {
   "cell_type": "code",
   "execution_count": 5,
   "metadata": {
    "collapsed": true
   },
   "outputs": [],
   "source": [
    "import numpy\n",
    "\n",
    "def findLCS(x,y):\n",
    "    D =  numpy.zeros((len(x)+1, len(y)+1), dtype=int)\n",
    "    D[0,1:]=0;\n",
    "    D[1:,0]=0;\n",
    "    for i in range(1,len(x)+1):\n",
    "        for j in range(1, len(y)+1):\n",
    "            \n",
    "            # we check if we have match on given postion\n",
    "            # if we do we check scores for all three possible edit operations\n",
    "            # otherwise, since mismatch is prohibited, we check only scores for insertion/deletion\n",
    "            if x[i-1]==y[j-1]:\n",
    "                D[i,j]=max(D[i-1,j-1]+1, \n",
    "                           D[i-1,j], \n",
    "                           D[i, j-1])\n",
    "            else:\n",
    "                D[i,j]=max(D[i-1,j], \n",
    "                           D[i, j-1])\n",
    "                \n",
    "    \n",
    "    return D, D[len(x),len(y)]"
   ]
  },
  {
   "cell_type": "markdown",
   "metadata": {},
   "source": [
    "For this scenario, we should also adjust traceback function properly."
   ]
  },
  {
   "cell_type": "code",
   "execution_count": 6,
   "metadata": {
    "collapsed": true
   },
   "outputs": [],
   "source": [
    "D, lenLCS = findLCS('ATCTGAT','TGCATA')"
   ]
  },
  {
   "cell_type": "code",
   "execution_count": 7,
   "metadata": {},
   "outputs": [
    {
     "name": "stdout",
     "output_type": "stream",
     "text": [
      "Longest common substring has length 4.\n",
      "Table is:\n",
      " [[0 0 0 0 0 0 0]\n",
      " [0 0 0 0 1 1 1]\n",
      " [0 1 1 1 1 2 2]\n",
      " [0 1 1 2 2 2 2]\n",
      " [0 1 1 2 2 3 3]\n",
      " [0 1 2 2 2 3 3]\n",
      " [0 1 2 2 3 3 4]\n",
      " [0 1 2 2 3 4 4]]\n"
     ]
    }
   ],
   "source": [
    "print(\"Longest common substring has length %s.\" % lenLCS)\n",
    "print('Table is:\\n', D)"
   ]
  },
  {
   "cell_type": "markdown",
   "metadata": {},
   "source": [
    "# Occurence of P in T"
   ]
  },
  {
   "cell_type": "markdown",
   "metadata": {},
   "source": [
    "Sometimes we're interested if there is a string similar enough to P in string T. We can determine this by using similarity metrics."
   ]
  },
  {
   "cell_type": "markdown",
   "metadata": {},
   "source": [
    "We say that there is an approximate occurence of P in T ending at position j of T if and only if V(n,j)≥𝝈. Moreover, T[k..j] is an approximate occurrence of P in T if and only if V(n, j) ≥𝝈 and there is a path of backpointers from cell (n,j) to cell (0,k).\n",
    "\n",
    "If T is on horizontal axis and P is in vertical axis, then the initial conditions are:\n",
    "> v(0,j)=0, ∀j\n",
    "\n",
    "This way we enusre our P-alike string can start at any postion of T.\n",
    "\n",
    "For the scoring schema in this example we're penalizing all of the mismatches with -1. Since P in on vertical axis, we're looking in the last row if there is  cell with value higher than 𝝈. In this specific example, we'll look only for maximum value in last row and ther we're checking if it's larger than treshold.\n",
    "\n",
    "Our P in T function receives two strings and treshold as inputs, and returns edit transcript, occurence of P in T and similarity table."
   ]
  },
  {
   "cell_type": "code",
   "execution_count": 8,
   "metadata": {},
   "outputs": [],
   "source": [
    "import numpy\n",
    "def occofPinT(p,t,treshold):\n",
    "    D =  numpy.zeros((len(p)+1, len(t)+1), dtype=int)\n",
    "    D[0,1:]=0;\n",
    "    D[1:, 0]=[-i for i in range(1,len(p)+1)]\n",
    "    for i in range(1,len(p)+1):\n",
    "        for j in range(1, len(t)+1):\n",
    "            sigma = 1 if p[i-1]==t[j-1] else -1\n",
    "            D[i,j]=max(D[i-1,j-1]+sigma, D[i-1,j]-1, D[i, j-1]-1)\n",
    "            \n",
    "    index, maxVal = None, 0\n",
    "    for j in range(0, len(t)+1):\n",
    "        if D[len(p), j] > maxVal:\n",
    "            index, maxVal = j, D[len(p), j]\n",
    "    \n",
    "    if maxVal < treshold:\n",
    "        return D, 'There is no P in T.', 'There is no transcript.'\n",
    "    else:\n",
    "        trace, occ = PinTtrace(x,y[:index],D)\n",
    "        return D, trace, occ"
   ]
  },
  {
   "cell_type": "markdown",
   "metadata": {},
   "source": [
    "In the traceback function, since reference is on horizontal axis (instead of vertical as usual), each vertical move represents the deletion, while each horizontal move represents the insertion.\n",
    "\n",
    "Backtrace function returns the edit transcript and the similar-to-P string. X is labeling the rows and Y is lableling the columns."
   ]
  },
  {
   "cell_type": "code",
   "execution_count": 9,
   "metadata": {
    "collapsed": true
   },
   "outputs": [],
   "source": [
    "def PinTtrace(x,y,D):\n",
    "    i=len(x)\n",
    "    j=len(y)\n",
    "    trace = ''\n",
    "    eT = ''\n",
    "    while i>0 and j>0:\n",
    "        d, v, h = 0, 0, 0\n",
    "\n",
    "        if j>0: h = D[i,j-1]-1  # horizontal movement score\n",
    "        if i>0: v = D[i-1,j]-1  # vertical movement score\n",
    "        if i>0 and j>0:         # diagonal movement score\n",
    "            delt = 1 if x[i-1] == y[j-1] else -1\n",
    "            d = D[i-1,j-1] + delt\n",
    "\n",
    "        #ties are solved by chosing vertical over diagonal and diagonal over horizontal (Gusfield )\n",
    "        if d > v and d >= h:\n",
    "            trace+=(x[i-1])\n",
    "            eT+='M' if delt == 1 else 'R'\n",
    "            i=i-1\n",
    "            j=j-1\n",
    "        # in this case (since t is on horizonatal axis) vertical movement is insertion\n",
    "        elif v>=d and v>=h:\n",
    "            i=i-1\n",
    "            eT+='I'\n",
    "        else:\n",
    "            j=j-1\n",
    "            eT+='D'\n",
    "    \n",
    "    return trace[::-1], eT[::-1]   "
   ]
  },
  {
   "cell_type": "code",
   "execution_count": 10,
   "metadata": {},
   "outputs": [
    {
     "name": "stdout",
     "output_type": "stream",
     "text": [
      "TACGTCAGC MMRMMMMDMM\n",
      "[[ 0  0  0  0  0  0  0  0  0  0  0  0  0  0  0  0  0  0  0  0  0  0]\n",
      " [-1 -1 -1 -1 -1 -1  1  0  1  0  1  0 -1  1  0 -1 -1  1  1  0 -1 -1]\n",
      " [-2  0  0 -1 -2 -2  0  2  1  0  0  0  1  0  0 -1 -2  0  0  0 -1  0]\n",
      " [-3 -1 -1  1  0 -1 -1  1  1  0 -1  1  0  0 -1  1  0 -1 -1 -1 -1 -1]\n",
      " [-4 -2 -2  0  0 -1 -2  0  0  2  1  0  0 -1  1  0  0 -1 -2  0  0 -1]\n",
      " [-5 -3 -3 -1 -1 -1  0 -1  1  1  3  2  1  1  0  0 -1  1  0 -1 -1 -1]\n",
      " [-6 -4 -4 -2  0  0 -1 -1  0  0  2  4  3  2  1  1  1  0  0 -1 -2 -2]\n",
      " [-7 -5 -3 -3 -1 -1 -1  0 -1 -1  1  3  5  4  3  2  1  0 -1 -1 -2 -1]\n",
      " [-8 -6 -4 -4 -2 -2 -2 -1 -1  0  0  2  4  4  5  4  3  2  1  0  0 -1]\n",
      " [-9 -7 -5 -3 -3 -1 -2 -2 -2 -1 -1  1  3  3  4  6  5  4  3  2  1  0]]\n"
     ]
    }
   ],
   "source": [
    "x, y = 'TACGTCAGC', 'AACCCTATGTCATGCCTTGGA'\n",
    "V, occurence, traceback = occofPinT(x, y, len(x)-3)\n",
    "print(occurence, traceback)\n",
    "print(V)"
   ]
  },
  {
   "cell_type": "code",
   "execution_count": null,
   "metadata": {
    "collapsed": true
   },
   "outputs": [],
   "source": []
  }
 ],
 "metadata": {
  "kernelspec": {
   "display_name": "Python 3",
   "language": "python",
   "name": "python3"
  },
  "language_info": {
   "codemirror_mode": {
    "name": "ipython",
    "version": 3
   },
   "file_extension": ".py",
   "mimetype": "text/x-python",
   "name": "python",
   "nbconvert_exporter": "python",
   "pygments_lexer": "ipython3",
   "version": "3.6.1"
  }
 },
 "nbformat": 4,
 "nbformat_minor": 2
}
