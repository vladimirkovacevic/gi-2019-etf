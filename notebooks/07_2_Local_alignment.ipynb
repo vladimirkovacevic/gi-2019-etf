{
 "cells": [
  {
   "cell_type": "markdown",
   "metadata": {},
   "source": [
    "# Local (Smith-Watterman) alignment"
   ]
  },
  {
   "cell_type": "markdown",
   "metadata": {},
   "source": [
    "We use local alignment to detect region of high similarity between two strings. We are not interesed in end-to-end string comparison, what we want to do is distinguish areas of high similarity from background \"noise\".\n",
    "\n",
    "What is local alignment?\n",
    "\n",
    "In simple words: Given strings x and y, what is the optimal global alignment value of a **substring of x** to a **substring of y**.  This is **local alignment**.\n"
   ]
  },
  {
   "cell_type": "markdown",
   "metadata": {},
   "source": [
    "Main difference is that local alignment **must** be implemented as maximization of objective function.\n",
    "\n",
    "**Scoring schema**\n",
    "\n",
    "Scoring schema is defined in such way:\n",
    "* all identities have score larger than 0 - e.g. 2\n",
    "* all mismatches and gaps have score smaller than 0 - we'll use -6 for indels and -4 for mismatch"
   ]
  },
  {
   "cell_type": "code",
   "execution_count": 1,
   "metadata": {
    "collapsed": true
   },
   "outputs": [],
   "source": [
    "def scoringMatrix(a,b):\n",
    "    if a==b: return 2 # match\n",
    "    if a=='_' or b=='_': return -6 # indel\n",
    "    return -4 # mismatch"
   ]
  },
  {
   "cell_type": "markdown",
   "metadata": {},
   "source": [
    "### Tabular computation"
   ]
  },
  {
   "cell_type": "markdown",
   "metadata": {},
   "source": [
    "**Objective function and base conditions**\n",
    "\n",
    "In local aligment, as mentioned before we're trying to maximise objective function. Most important difference is that except all previous posibilities in the objective function (indels, match, mismatch) we've added **zero** as an option. This way, we won't have to go all the way back to cell (0,0) and are able to do global alignment of substrings fro x and y.\n",
    "\n",
    "Here is the recurrence relation (objective function): \n",
    "> V(i,j)=max[ 0, v(i-1, j)+s(S1(i), ' \\_ ' ),  v(i, j-1)+s(‘ \\_ ’, S2(j)),  v(i-1, j-1)+s(S1(i), S2(j)) ]\n",
    "\n",
    "\n",
    "**Base conditions** \n",
    "Base conditions are for the local alignment set to 0.\n",
    "\n",
    "We write this as:\n",
    ">v(0,i)=0\n",
    "\n",
    "> v(0,j)=0, ∀ i, j\n",
    "\n",
    "\n",
    "In order to find the maximum value of local alignment, we need to find the maximum in the matrix.\n",
    "\n",
    "Bellow is the *localAlignment* function. It takes two strings as arguments and returns maximum value in the matrix (value of local alignment).\n",
    "We initialize n x m matrix of zeros (since both first column and first row have zero-values) and then fill the rest of the matrix using objective function."
   ]
  },
  {
   "cell_type": "code",
   "execution_count": 19,
   "metadata": {
    "collapsed": true
   },
   "outputs": [],
   "source": [
    "import numpy\n",
    "\n",
    "def localAlignment(x,y, s):\n",
    "    D = numpy.zeros((len(x)+1,len(y)+1), dtype=int)\n",
    "\n",
    "    for i in range(1,len(x)+1):\n",
    "        for j in range(1,len(y)+1):\n",
    "            D[i,j]=max(0, \n",
    "                       D[i-1,j]  +s(x[i-1], '_'),\n",
    "                       D[i,j-1]  +s('_',   y[j-1]), \n",
    "                       D[i-1,j-1]+s(x[i-1],y[j-1]))\n",
    "    \n",
    "    # find the cell in the table which has maximum value       \n",
    "    localMax = D.max()\n",
    "    return D, localMax"
   ]
  },
  {
   "cell_type": "code",
   "execution_count": 20,
   "metadata": {},
   "outputs": [
    {
     "name": "stdout",
     "output_type": "stream",
     "text": [
      "[[ 0  0  0  0  0  0  0  0  0  0  0  0  0  0  0]\n",
      " [ 0  0  0  0  0  0  2  0  2  2  0  2  0  0  0]\n",
      " [ 0  0  0  0  0  0  2  0  2  4  0  2  0  0  0]\n",
      " [ 0  2  0  2  0  2  0  0  0  0  0  0  4  2  2]\n",
      " [ 0  0  4  0  4  0  0  0  0  0  0  0  0  0  0]\n",
      " [ 0  2  0  6  0  6  0  0  0  0  0  0  2  2  2]\n",
      " [ 0  0  0  0  2  0  8  2  2  2  0  2  0  0  0]\n",
      " [ 0  0  0  0  0  0  2 10  4  0  4  0  0  0  0]\n",
      " [ 0  2  0  2  0  2  0  4  6  0  0  0  2  2  2]\n",
      " [ 0  0  0  0  0  0  4  0  6  8  2  2  0  0  0]\n",
      " [ 0  0  0  0  0  0  2  0  2  8  4  4  0  0  0]\n",
      " [ 0  0  0  0  0  0  0  4  0  2 10  4  0  0  0]\n",
      " [ 0  0  0  0  0  0  2  0  6  2  4 12  6  0  0]\n",
      " [ 0  0  0  0  0  0  0  4  0  2  4  6  8  2  0]\n",
      " [ 0  2  0  2  0  2  0  0  0  0  0  0  8 10  4]\n",
      " [ 0  0  4  0  4  0  0  0  0  0  0  0  2  4  6]]\n"
     ]
    }
   ],
   "source": [
    "x = 'GGTATGCTGGCGCTA'\n",
    "y = 'TATATGCGGCGTTT'\n",
    "V, score = localAlignment(x, y, scoringMatrix)\n",
    "print(V)"
   ]
  },
  {
   "cell_type": "code",
   "execution_count": 21,
   "metadata": {},
   "outputs": [
    {
     "name": "stdout",
     "output_type": "stream",
     "text": [
      "Best score is: 12 in cell (12, 11)\n"
     ]
    }
   ],
   "source": [
    "print(\"Best score is: %d in cell %s\" % (score, numpy.unravel_index(numpy.argmax(V), V.shape)))"
   ]
  },
  {
   "cell_type": "markdown",
   "metadata": {},
   "source": [
    "### Traceback"
   ]
  },
  {
   "cell_type": "markdown",
   "metadata": {},
   "source": [
    "We can see here what the value of local alignment is, but we can't see clearly which regions have maximum local alignment score. \n",
    "\n",
    "In order to find maximum local alignment regions we need to do the tracbeck. First we need to find maximum local alignment of the value (which is also maximum value in the matrix). Secondly we need to backtrace from it untill we reach any cell having value 0 (or hit any cell in the first row or column). \n",
    "\n",
    "\n",
    "We're doing backtrace same as in all previous examples - to backtrace from one to the next cell, we take three neighbouring cells and recalculate the values of movement from any of these cells to our current cels. Then we backtrace to the cell which gives the maximum value. Depending if it's horizontal, vertical or diagonal movement we insertions and deletions into string alignments."
   ]
  },
  {
   "cell_type": "code",
   "execution_count": 22,
   "metadata": {
    "collapsed": true
   },
   "outputs": [],
   "source": [
    "def tracebak(x,y,V, s):\n",
    "    maxValue=numpy.where(V==V.max())\n",
    "    i=maxValue[0][0]\n",
    "    j=maxValue[1][0]\n",
    "    ax,ay,am, tr = '','','',''\n",
    "    while (i>0 or j>0) and V[i,j]!=0:\n",
    "        if i>0 and j>0:\n",
    "            sigma = 1 if x[i-1]==y[j-1] else 0\n",
    "            d=V[i-1,j-1]+s(x[i-1],y[j-1]) # diagonal move\n",
    "        if i>0: v=V[i-1,j]+s(x[i-1],'_')  # vertical move\n",
    "        if j>0: h=V[i,j-1]+s('_',y[j-1])  # horizontal move\n",
    "        \n",
    "        # diagonal is the best\n",
    "        if d>=v and d>=h:\n",
    "            ax += x[i-1]\n",
    "            ay += y[j-1]\n",
    "            if sigma==1:\n",
    "                tr+='M'\n",
    "                am+='|'\n",
    "            else:\n",
    "                tr+='R'\n",
    "                am+=' '\n",
    "            i-=1\n",
    "            j-=1\n",
    "        # vertical is the best\n",
    "        elif v>=h:\n",
    "            ax+=x[i-1]\n",
    "            ay+='_'\n",
    "            tr+='I'\n",
    "            am+=' '\n",
    "            i-=1\n",
    "        # horizontal is the best\n",
    "        else:\n",
    "            ay+=y[j-1]\n",
    "            ax+='_'\n",
    "            tr+='D'\n",
    "            am+=' '\n",
    "            j-=1\n",
    "    alignment= '\\n'.join([ax[::-1], am[::-1], ay[::-1]])\n",
    "    return alignment, tr[::-1]"
   ]
  },
  {
   "cell_type": "code",
   "execution_count": 23,
   "metadata": {
    "collapsed": true
   },
   "outputs": [],
   "source": [
    "alignment, transcript = tracebak(x,y,V, scoringMatrix)"
   ]
  },
  {
   "cell_type": "code",
   "execution_count": 24,
   "metadata": {},
   "outputs": [
    {
     "name": "stdout",
     "output_type": "stream",
     "text": [
      "TATGCTGGCG\n",
      "||||| ||||\n",
      "TATGC_GGCG\n",
      "MMMMMIMMMM\n"
     ]
    }
   ],
   "source": [
    "print(alignment)\n",
    "print(transcript)"
   ]
  },
  {
   "cell_type": "code",
   "execution_count": 31,
   "metadata": {},
   "outputs": [
    {
     "name": "stdout",
     "output_type": "stream",
     "text": [
      "Best score is: 12 in cell (25, 7)\n",
      "Alignment is:\n",
      " brave\n",
      "||||||\n",
      " brave\n",
      "MMMMMM\n"
     ]
    }
   ],
   "source": [
    "x = 'brontosaurus if the bravest dinosaurus'\n",
    "y = 'a brave little toster'\n",
    "V, score = localAlignment(x, y, scoringMatrix)\n",
    "print(\"Best score is: %d in cell %s\" % (score, numpy.unravel_index(numpy.argmax(V), V.shape)))\n",
    "alignment, transcript = tracebak(x,y,V, scoringMatrix)\n",
    "print(\"Alignment is:\")\n",
    "print(alignment)\n",
    "print(transcript)"
   ]
  },
  {
   "cell_type": "code",
   "execution_count": null,
   "metadata": {
    "collapsed": true
   },
   "outputs": [],
   "source": []
  },
  {
   "cell_type": "code",
   "execution_count": null,
   "metadata": {
    "collapsed": true
   },
   "outputs": [],
   "source": []
  }
 ],
 "metadata": {
  "kernelspec": {
   "display_name": "Python 3",
   "language": "python",
   "name": "python3"
  },
  "language_info": {
   "codemirror_mode": {
    "name": "ipython",
    "version": 3
   },
   "file_extension": ".py",
   "mimetype": "text/x-python",
   "name": "python",
   "nbconvert_exporter": "python",
   "pygments_lexer": "ipython3",
   "version": "3.6.1"
  }
 },
 "nbformat": 4,
 "nbformat_minor": 2
}
