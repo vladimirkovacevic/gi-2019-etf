{
 "cells": [
  {
   "cell_type": "markdown",
   "metadata": {},
   "source": [
    "# Global (end-to-end) alignment (Needleman-Wunsch)"
   ]
  },
  {
   "cell_type": "markdown",
   "metadata": {},
   "source": [
    "Global alignment is very similar to (alphabet-weight) edit distance. Key difference is that alignment is defined in terms of similarity, where we try to **maximize** the function score. On the other hand, in order to retreive edit distance we try to **minimize** the score (distance).\n",
    "\n",
    "Global alignment can be transformed to alphabet-weighted edit distance problem if proper scoring matrix is used. "
   ]
  },
  {
   "cell_type": "markdown",
   "metadata": {},
   "source": [
    "### Scoring matrix"
   ]
  },
  {
   "cell_type": "markdown",
   "metadata": {},
   "source": [
    "Global-alignment is definend in the terms of pairwise scoring matrix. Therefore we first need to define **scoring function (matrix)**."
   ]
  },
  {
   "cell_type": "markdown",
   "metadata": {},
   "source": [
    "In practice, we set values in scoring matrix such that they are positive (or equal to zero) for match and negative for mismatch. Then we try to maximize alignment value (as stated in the beginning of this lecture). \n",
    "\n",
    "We will define scoring function in the following manner:\n",
    "* Highest score should be for two matching characters - e.g. 1\n",
    "+ if that is not the case transitions should have higher score than transversions - e.g. -1\n",
    "+ transversion score can then be  -2\n",
    "+ and gaps (insertions/deletion) should be heavily penalized - let's use -7 for that.\n"
   ]
  },
  {
   "cell_type": "code",
   "execution_count": 1,
   "metadata": {
    "collapsed": true
   },
   "outputs": [],
   "source": [
    "def scoringMatrix(a, b):\n",
    "    if a == b: return 1\n",
    "    if a == '_' or b == '_' : return -7\n",
    "    maxb, minb = max(a, b), min(a, b)\n",
    "    if minb == 'A' and maxb == 'G': return -1\n",
    "    if minb == 'C' and maxb == 'T': return -1\n",
    "    return -2"
   ]
  },
  {
   "cell_type": "code",
   "execution_count": 2,
   "metadata": {},
   "outputs": [
    {
     "data": {
      "text/plain": [
       "1"
      ]
     },
     "execution_count": 2,
     "metadata": {},
     "output_type": "execute_result"
    }
   ],
   "source": [
    "scoringMatrix('C','C')"
   ]
  },
  {
   "cell_type": "code",
   "execution_count": 3,
   "metadata": {
    "collapsed": true
   },
   "outputs": [],
   "source": [
    "x='TACGTCAGC'\n",
    "y='TATGTCATGC'"
   ]
  },
  {
   "cell_type": "code",
   "execution_count": 4,
   "metadata": {},
   "outputs": [
    {
     "data": {
      "text/plain": [
       "1"
      ]
     },
     "execution_count": 4,
     "metadata": {},
     "output_type": "execute_result"
    }
   ],
   "source": [
    "scoringMatrix(x[6],y[6])"
   ]
  },
  {
   "cell_type": "markdown",
   "metadata": {},
   "source": [
    "### Tabular computation"
   ]
  },
  {
   "cell_type": "markdown",
   "metadata": {},
   "source": [
    "Next we need to define global alignment function. What are the differences between global alignment function and edit distance example we have had previously?\n",
    "\n",
    "Both base conditions and recurrence relation are defined in relation to scoring matrix (in edit distance all changes had constant penalty of 1)."
   ]
  },
  {
   "cell_type": "markdown",
   "metadata": {},
   "source": [
    "Base conditions:\n",
    ">V(0,j)=∑s(‘_’, y(j)), 1<=j<=k\n",
    "\n",
    ">V(i,0)=∑s(x(i),’_’), 1<=i<=k\n"
   ]
  },
  {
   "cell_type": "markdown",
   "metadata": {},
   "source": [
    "Reccurence relation is defined in relation to scoring matrix. Now we also try to **maximize** relation:\n",
    ">V(i,j) = max[V(i-1,j)+s(S1(i), \"\\_\"), V(i,j-1)+s(\"\\_\", S2(j)), V(i-1,j-1)+s(S1(i), S2(j))]\n"
   ]
  },
  {
   "cell_type": "markdown",
   "metadata": {},
   "source": [
    "With going for maximum (instead for minimum) score and respect to the scoring function, here is the implementation:"
   ]
  },
  {
   "cell_type": "code",
   "execution_count": 5,
   "metadata": {
    "collapsed": true
   },
   "outputs": [],
   "source": [
    "import numpy\n",
    "\n",
    "\n",
    "def globalAlignment(x, y, s):\n",
    "    D = numpy.zeros((len(x) + 1, len(y) + 1), dtype=int)\n",
    "    \n",
    "    for i in range(1, len(x) + 1):\n",
    "        D[i,0] = D[i-1,0] + s(x[i-1], '_')  \n",
    "    for j in range(1, len(y)+1):\n",
    "        D[0,j] = D[0,j-1] + s('_', y[j-1])\n",
    "    \n",
    "    for i in range(1, len(x) + 1):\n",
    "        for j in range(1, len(y) + 1):\n",
    "            D[i,j] = max(D[i-1,j]   + s(x[i-1], '_'),\n",
    "                         D[i,j-1]   + s('_', y[j-1]), \n",
    "                         D[i-1,j-1] + s(x[i-1], y[j-1]))\n",
    "            \n",
    "    # function returns table and global alignment score\n",
    "    #alignment score is in cell (n,m) of the matrix\n",
    "    return D, D[len(x),len(y)] "
   ]
  },
  {
   "cell_type": "code",
   "execution_count": 6,
   "metadata": {
    "collapsed": true
   },
   "outputs": [],
   "source": [
    "D, alignmentScore = globalAlignment('TACGTCAGC', 'TATGTCATGC', scoringMatrix)"
   ]
  },
  {
   "cell_type": "code",
   "execution_count": 7,
   "metadata": {},
   "outputs": [
    {
     "name": "stdout",
     "output_type": "stream",
     "text": [
      "0\n"
     ]
    }
   ],
   "source": [
    "print(alignmentScore)"
   ]
  },
  {
   "cell_type": "code",
   "execution_count": 8,
   "metadata": {},
   "outputs": [
    {
     "name": "stdout",
     "output_type": "stream",
     "text": [
      "[[  0  -7 -14 -21 -28 -35 -42 -49 -56 -63 -70]\n",
      " [ -7   1  -6 -13 -20 -27 -34 -41 -48 -55 -62]\n",
      " [-14  -6   2  -5 -12 -19 -26 -33 -40 -47 -54]\n",
      " [-21 -13  -5   1  -6 -13 -18 -25 -32 -39 -46]\n",
      " [-28 -20 -12  -6   2  -5 -12 -19 -26 -31 -38]\n",
      " [-35 -27 -19 -11  -5   3  -4 -11 -18 -25 -32]\n",
      " [-42 -34 -26 -18 -12  -4   4  -3 -10 -17 -24]\n",
      " [-49 -41 -33 -25 -19 -11  -3   5  -2  -9 -16]\n",
      " [-56 -48 -40 -32 -24 -18 -10  -2   3  -1  -8]\n",
      " [-63 -55 -47 -39 -31 -25 -17  -9  -3   1   0]]\n"
     ]
    }
   ],
   "source": [
    "print(D)"
   ]
  },
  {
   "cell_type": "markdown",
   "metadata": {},
   "source": [
    "### Traceback"
   ]
  },
  {
   "cell_type": "markdown",
   "metadata": {
    "collapsed": true
   },
   "source": [
    "Traceback implementation is done same as in edit distance example. For the curent cells we compute scores of the three neigbouring cells from whom we might have gotten to our current cell. At each cell we ask - which predecessor gave the best score?\n",
    "\n",
    "Scores are computed by using values of these cells and type of movement (horizontal, vertical, diagonal). Then we move to the cell which gave the best score. In the case of global aligment - we're looking for maximum value if such scoring matrix is beeing used. \n",
    "\n",
    "In our implementation, while doing that, we store edit operation on input strings and allignment between them."
   ]
  },
  {
   "cell_type": "code",
   "execution_count": 9,
   "metadata": {
    "collapsed": true
   },
   "outputs": [],
   "source": [
    "def traceback(x,y,V,s):\n",
    "    \n",
    "    # initializing starting position cell(n,m)\n",
    "    i=len(x)\n",
    "    j=len(y)\n",
    "    \n",
    "    # initializing strings we use to represent alignments in x, y, edit transcript and global alignment\n",
    "    ax, ay, am, tr = '', '', '', ''\n",
    "    \n",
    "    # exit condition is when we reach cell (0,0)\n",
    "    while i > 0 or j > 0:\n",
    "        \n",
    "        # calculating diagonal, horizontal and vertical scores for current cell\n",
    "        d, v, h = -100, -100, -100\n",
    "        \n",
    "        if i > 0 and j > 0:\n",
    "            delta = 1 if x[i-1] == y[j-1] else 0\n",
    "            d = V[i-1,j-1] + s(x[i-1], y[j-1])  # diagonal movement   \n",
    "        if i > 0: v = V[i-1,j] + s(x[i-1], '_')  # vertical movement\n",
    "        if j > 0: h = V[i,j-1] + s('_', y[j-1])  # horizontal movement\n",
    "            \n",
    "        # backtracing to next (previous) cell\n",
    "        if d >= v and d >= h:\n",
    "            ax += x[i-1]\n",
    "            ay += y[j-1]\n",
    "            if delta == 1:\n",
    "                tr += 'M'\n",
    "                am += '|'\n",
    "            else:\n",
    "                tr += 'R'\n",
    "                am += ' '\n",
    "            i -= 1\n",
    "            j -= 1\n",
    "        elif v >= h:\n",
    "            ax += x[i-1]\n",
    "            ay += '_'\n",
    "            tr += 'D'\n",
    "            am += ' '\n",
    "            i -= 1\n",
    "        else:\n",
    "            ay += y[j-1]\n",
    "            ax += '_'\n",
    "            tr += 'I'\n",
    "            am += ' '\n",
    "            j -= 1\n",
    "            \n",
    "    alignment='\\n'.join([ax[::-1], am[::-1], ay[::-1]])\n",
    "    return alignment, tr[::-1]"
   ]
  },
  {
   "cell_type": "code",
   "execution_count": 10,
   "metadata": {
    "collapsed": true
   },
   "outputs": [],
   "source": [
    "x = 'TACGTCAGC'\n",
    "y = 'TATGTCATGC'\n",
    "D, alignmentScore = globalAlignment(x, y, scoringMatrix)"
   ]
  },
  {
   "cell_type": "code",
   "execution_count": 11,
   "metadata": {
    "collapsed": true
   },
   "outputs": [],
   "source": [
    "alignment, transcript = traceback(x, y, D, scoringMatrix)"
   ]
  },
  {
   "cell_type": "code",
   "execution_count": 12,
   "metadata": {},
   "outputs": [
    {
     "name": "stdout",
     "output_type": "stream",
     "text": [
      "TACGTCA_GC\n",
      "|| |||| ||\n",
      "TATGTCATGC\n",
      "MMRMMMMIMM\n"
     ]
    }
   ],
   "source": [
    "print(alignment)\n",
    "print(transcript)"
   ]
  },
  {
   "cell_type": "code",
   "execution_count": 13,
   "metadata": {},
   "outputs": [
    {
     "name": "stdout",
     "output_type": "stream",
     "text": [
      "[[  0  -7 -14 -21 -28 -35 -42 -49 -56 -63 -70]\n",
      " [ -7   1  -6 -13 -20 -27 -34 -41 -48 -55 -62]\n",
      " [-14  -6   2  -5 -12 -19 -26 -33 -40 -47 -54]\n",
      " [-21 -13  -5   1  -6 -13 -18 -25 -32 -39 -46]\n",
      " [-28 -20 -12  -6   2  -5 -12 -19 -26 -31 -38]\n",
      " [-35 -27 -19 -11  -5   3  -4 -11 -18 -25 -32]\n",
      " [-42 -34 -26 -18 -12  -4   4  -3 -10 -17 -24]\n",
      " [-49 -41 -33 -25 -19 -11  -3   5  -2  -9 -16]\n",
      " [-56 -48 -40 -32 -24 -18 -10  -2   3  -1  -8]\n",
      " [-63 -55 -47 -39 -31 -25 -17  -9  -3   1   0]]\n"
     ]
    }
   ],
   "source": [
    "print(D)"
   ]
  },
  {
   "cell_type": "markdown",
   "metadata": {
    "collapsed": true
   },
   "source": [
    "### Test"
   ]
  },
  {
   "cell_type": "code",
   "execution_count": 14,
   "metadata": {},
   "outputs": [
    {
     "name": "stdout",
     "output_type": "stream",
     "text": [
      "ACTGACTGACTG\n",
      "||||| ||  ||\n",
      "ACTGAGTGTTTG\n",
      "MMMMMRMMRRMM\n"
     ]
    }
   ],
   "source": [
    "x = 'ACTGACTGACTG'\n",
    "y = 'ACTGAGTGTTTG'\n",
    "alignment, transcript = traceback(x, y, globalAlignment(x, y, scoringMatrix)[0], scoringMatrix)\n",
    "print(alignment)\n",
    "print(transcript)"
   ]
  },
  {
   "cell_type": "code",
   "execution_count": null,
   "metadata": {
    "collapsed": true
   },
   "outputs": [],
   "source": []
  }
 ],
 "metadata": {
  "kernelspec": {
   "display_name": "Python 3",
   "language": "python",
   "name": "python3"
  },
  "language_info": {
   "codemirror_mode": {
    "name": "ipython",
    "version": 3
   },
   "file_extension": ".py",
   "mimetype": "text/x-python",
   "name": "python",
   "nbconvert_exporter": "python",
   "pygments_lexer": "ipython3",
   "version": "3.6.1"
  }
 },
 "nbformat": 4,
 "nbformat_minor": 2
}
