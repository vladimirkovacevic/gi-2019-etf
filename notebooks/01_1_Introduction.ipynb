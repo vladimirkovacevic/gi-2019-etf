{
 "cells": [
  {
   "cell_type": "markdown",
   "metadata": {
    "nbpresent": {
     "id": "14d840fb-0c43-418e-a204-940d4493daca"
    },
    "slideshow": {
     "slide_type": "slide"
    }
   },
   "source": [
    "# Introduction\n",
    "\n",
    "[Python](http://www.python.org) is a Very High Level Language, object-oriented, dynamic and with strong typing, interpreted and interactive."
   ]
  },
  {
   "cell_type": "markdown",
   "metadata": {
    "nbpresent": {
     "id": "7b65847e-529c-4742-8751-be1516484e74"
    },
    "slideshow": {
     "slide_type": "slide"
    }
   },
   "source": [
    "## Features\n",
    "\n",
    "- Clear and concise syntax\n",
    "- High-level structures (lists, dictionaries, date / time, complex numbers and others)\n",
    "- Vast collection of modules\n",
    "- Support modular, functional, and object-oriented programming.\n",
    "- Interpreted through bytecode by the Python virtual machine\n",
    "- Portable\n",
    "- Possible to integrate with other languages such as C and Fortran."
   ]
  },
  {
   "cell_type": "markdown",
   "metadata": {
    "nbpresent": {
     "id": "4fdbbcdb-22cf-470f-94ea-759ec7793dc6"
    },
    "slideshow": {
     "slide_type": "slide"
    }
   },
   "source": [
    "## License\n",
    "\n",
    "Python is open source software (with license compatible with the *General Public License (GPL)*, but less restrictive, allowing Python to be even incorporated into proprietary products). The language specification is maintained by the [Python Software Foundation](http://www.python.org/psf/) (PSF)."
   ]
  },
  {
   "cell_type": "markdown",
   "metadata": {
    "nbpresent": {
     "id": "1999286d-a7ac-4cd8-98e4-2f3ccd32ee0e"
    },
    "slideshow": {
     "slide_type": "slide"
    }
   },
   "source": [
    "## History\n",
    "\n",
    "The language was created in 1990 by Guido van Rossum, the National Research Institute for Mathematics and Computer Science in the Netherlands (CWI) and had originally focused on users as physicists and engineers. Python was designed from another existing language at the time, called ABC.\n",
    "\n",
    "Today, the language is well accepted in the industry for high-tech companies, such as:\n",
    "\n",
    "+ Google (Web applications).\n",
    "+ Yahoo (Web applications).\n",
    "+ Microsoft (IronPython: Python for. NET)\n",
    "+ Nokia (available for recent lines of cell phones and PDAs).\n",
    "+ Disney (3D animations)."
   ]
  },
  {
   "cell_type": "markdown",
   "metadata": {
    "nbpresent": {
     "id": "001e6265-06ef-4b64-b0d4-55fcdaf69946"
    },
    "slideshow": {
     "slide_type": "slide"
    }
   },
   "source": [
    "## Versions\n",
    "\n",
    "The official implementation of Python is maintained by the PSF and written in C, and therefore is also known as CPython. The latest stable version is available for download at:\n",
    "\n",
    "[http://www.python.org/download/](http://www.python.org/download/)\n",
    "\n",
    "For Windows platforms, simply run the installer. For other platforms, such as Linux, Python is usually already part of the system, but in some cases it may be necessary to compile and install the interpreter from the source files.\n",
    "\n",
    "There are also implementations of Python for. NET (IronPython), JVM (Jython) and Python (PyPy).\n"
   ]
  },
  {
   "cell_type": "markdown",
   "metadata": {
    "nbpresent": {
     "id": "3f334ce3-68b9-493c-9fc7-4fc849d775ef"
    },
    "slideshow": {
     "slide_type": "slide"
    }
   },
   "source": [
    "# Running programs"
   ]
  },
  {
   "cell_type": "code",
   "execution_count": null,
   "metadata": {
    "nbpresent": {
     "id": "593c1509-e334-4e35-bb7b-b092d877868e"
    },
    "slideshow": {
     "slide_type": "fragment"
    }
   },
   "outputs": [],
   "source": [
    "# Example of Python program:\n",
    "# the character \"#\" indicates that the rest of the line is a comment\n",
    "# A list of musical instruments\n",
    "instruments = ['Bass', 'Drums', 'Guitar']\n",
    "\n",
    "# for each name in the list of instruments\n",
    "for instrument in instruments:\n",
    "    # show the name of the musical instrument\n",
    "    print(instrument)"
   ]
  },
  {
   "cell_type": "markdown",
   "metadata": {
    "nbpresent": {
     "id": "ae6de766-0050-497e-a5cc-376dc75b47c7"
    },
    "slideshow": {
     "slide_type": "fragment"
    }
   },
   "source": [
    "The source files are usually identified by the extension \".py\" and can be run directly by the interpreter:\n",
    "python apl.py\n",
    "Thus apl.py will run. On Windows, the file extensions \".py\", \". pyw\", \". pyc\" and \". pyo\" are associated with Python automatically during installation, so just click a the file to run it. "
   ]
  },
  {
   "cell_type": "markdown",
   "metadata": {
    "nbpresent": {
     "id": "4c7a47ac-5fab-4e38-b544-a4cb5af10e8d"
    },
    "slideshow": {
     "slide_type": "slide"
    }
   },
   "source": [
    "# Dynamic variable's type assignment\n",
    "\n",
    "Dynamic typing - the type of a variable is inferred by the interpreter at runtime (this is known as *Duck Typing*). \n",
    "\n",
    "By the time a variable is created by attribution the interpreter defines the type of a variable, along with the operations that can be applied."
   ]
  },
  {
   "cell_type": "markdown",
   "metadata": {
    "slideshow": {
     "slide_type": "slide"
    }
   },
   "source": [
    "# Automatic type conversion\n",
    "\n",
    "Typing of Python is strong, ie, the interpreter checks whether the transactions are valid and does automatic coercions between incompatible types. \n",
    "\n",
    "In Python, corecions are performed automatically only between types that are clearly related, as integer and long integer, but also integer and float (*BE CAREFUL*). \n",
    "\n",
    "To perform the operation between non-compatible types, you must *explicitly* convert the type of the variable or variables before the operation."
   ]
  },
  {
   "cell_type": "markdown",
   "metadata": {
    "nbpresent": {
     "id": "175b0938-af27-4cca-ab37-3ffabd93650e"
    },
    "slideshow": {
     "slide_type": "slide"
    }
   },
   "source": [
    "## Compilation and interpretation\n",
    "\n",
    "The source code is translated by Python to bytecode, which is a binary format with instructions for the interpreter. The bytecode is cross platform and can be distributed and run without the original source.\n",
    "\n",
    "<img title=\"Compilation, interpretation and packing\" src=\"files/compile.png\" width=\"800\"/>"
   ]
  },
  {
   "cell_type": "markdown",
   "metadata": {
    "nbpresent": {
     "id": "7d77f98b-622d-4fc7-ba78-492b97b8e887"
    },
    "slideshow": {
     "slide_type": "slide"
    }
   },
   "source": [
    "## Interactive Mode\n",
    "\n",
    "The Python interpreter can be used interactively, where lines of code are typed into a *prompt* (command line) *shell* similar to the operating system:\n",
    "\n",
    "```\n",
    "$ python\n",
    "Python 3.6.0 |Continuum Analytics, Inc.\n",
    "[GCC 4.2.1 Compatible Apple LLVM 6.0 (clang-600.0.57)] on darwin\n",
    "Type \"help\", \"copyright\", \"credits\" or \"license\" for more information.\n",
    ">>>\n",
    "```\n",
    "\n",
    "It is possible to test and modify code snippets before inclusion in programs, extract and convert data or even analyze the state of the objects in memory"
   ]
  },
  {
   "cell_type": "markdown",
   "metadata": {
    "nbpresent": {
     "id": "b841ea27-3be6-4129-a415-e8c500672d48"
    },
    "slideshow": {
     "slide_type": "slide"
    }
   },
   "source": [
    "## PyCharm\n",
    "\n",
    "Besides the traditional interactive mode of Python, there are other programs that act as alternatives to more sophisticated interfaces (such as <span class=\"note\" title=\"PyCharm\">PyCharm</span>):\n",
    "<img title=\"PyCharm\" src=\"files/pycharm.jpg\" width=\"1000\"/>"
   ]
  },
  {
   "cell_type": "markdown",
   "metadata": {
    "nbpresent": {
     "id": "2fbcecc6-eaab-49c9-ba90-d0450892fbff"
    },
    "slideshow": {
     "slide_type": "slide"
    }
   },
   "source": [
    "# Culture\n",
    "\n",
    "\n",
    "The name Python was taken by Guido van Rossum from british TV program *Monty Python's Flying Circus*, and there are many references to the show in its documentation. For instance, Python's oficial package repository was called Cheese Shop, the name of one of the frames of the program. Currently, the repository name is [Python Package Index](http://pypi.python.org/pypi) (PYPI).\n",
    "\n",
    "The goals of the project was summarized by Tim Peters in a text called *Zen of Python*, which is available in Python itself using the command:"
   ]
  },
  {
   "cell_type": "code",
   "execution_count": null,
   "metadata": {
    "nbpresent": {
     "id": "5bf7bca8-1c24-46bf-9db2-57fa4a71bddf"
    },
    "slideshow": {
     "slide_type": "slide"
    }
   },
   "outputs": [],
   "source": [
    "import this"
   ]
  }
 ],
 "metadata": {
  "anaconda-cloud": {},
  "celltoolbar": "Slideshow",
  "kernelspec": {
   "display_name": "Python 3",
   "language": "python",
   "name": "python3"
  },
  "language_info": {
   "codemirror_mode": {
    "name": "ipython",
    "version": 3
   },
   "file_extension": ".py",
   "mimetype": "text/x-python",
   "name": "python",
   "nbconvert_exporter": "python",
   "pygments_lexer": "ipython3",
   "version": "3.6.5"
  },
  "livereveal": {
   "theme": "serif"
  },
  "nbpresent": {
   "slides": {
    "11a2a105-4dc9-4d54-a82f-2dbc30c9e2ea": {
     "id": "11a2a105-4dc9-4d54-a82f-2dbc30c9e2ea",
     "prev": null,
     "regions": {
      "e4ae5af7-d9e6-489c-9d22-64a945fcd342": {
       "attrs": {
        "height": 0.8,
        "width": 0.8,
        "x": 0.1,
        "y": 0.1
       },
       "content": {
        "cell": "14d840fb-0c43-418e-a204-940d4493daca",
        "part": "whole"
       },
       "id": "e4ae5af7-d9e6-489c-9d22-64a945fcd342"
      }
     }
    },
    "27deb24b-5c11-48b6-aaf6-11d7ecb738af": {
     "id": "27deb24b-5c11-48b6-aaf6-11d7ecb738af",
     "prev": "7b907536-29ab-4a15-8125-ed46d201cb7e",
     "regions": {
      "3b6c334d-a6ce-46cd-9fc9-bbd90800f1a4": {
       "attrs": {
        "height": 0.8,
        "width": 0.8,
        "x": 0.1,
        "y": 0.1
       },
       "content": {
        "cell": "1999286d-a7ac-4cd8-98e4-2f3ccd32ee0e",
        "part": "whole"
       },
       "id": "3b6c334d-a6ce-46cd-9fc9-bbd90800f1a4"
      }
     }
    },
    "547cbe55-a680-418f-92cf-4602a936675d": {
     "id": "547cbe55-a680-418f-92cf-4602a936675d",
     "prev": "ca93be77-9faf-4b43-82bb-747289f7b0c1",
     "regions": {
      "a67f5dea-c4af-422e-ac67-941e810c6204": {
       "attrs": {
        "height": 0.8,
        "width": 0.8,
        "x": 0.1,
        "y": 0.1
       },
       "content": {
        "cell": "5bf7bca8-1c24-46bf-9db2-57fa4a71bddf",
        "part": "whole"
       },
       "id": "a67f5dea-c4af-422e-ac67-941e810c6204"
      }
     }
    },
    "5a599854-e29b-43dd-a1ac-a66092774ffc": {
     "id": "5a599854-e29b-43dd-a1ac-a66092774ffc",
     "prev": "b5b375b2-9fa1-402a-a175-e5799d54368d",
     "regions": {
      "00bf979b-7837-4d55-8897-987c94829ca4": {
       "attrs": {
        "height": 0.8,
        "width": 0.8,
        "x": 0.1,
        "y": 0.1
       },
       "content": {
        "cell": "175b0938-af27-4cca-ab37-3ffabd93650e",
        "part": "whole"
       },
       "id": "00bf979b-7837-4d55-8897-987c94829ca4"
      }
     }
    },
    "79397f1d-5670-4650-bac6-8c57b03ad7f4": {
     "id": "79397f1d-5670-4650-bac6-8c57b03ad7f4",
     "prev": "5a599854-e29b-43dd-a1ac-a66092774ffc",
     "regions": {
      "66235d0f-6798-47b8-84be-3bcd109d68ac": {
       "attrs": {
        "height": 0.8,
        "width": 0.8,
        "x": 0.1,
        "y": 0.1
       },
       "content": {
        "cell": "7d77f98b-622d-4fc7-ba78-492b97b8e887",
        "part": "whole"
       },
       "id": "66235d0f-6798-47b8-84be-3bcd109d68ac"
      }
     }
    },
    "7b907536-29ab-4a15-8125-ed46d201cb7e": {
     "id": "7b907536-29ab-4a15-8125-ed46d201cb7e",
     "prev": "dbd67d0b-a6fb-4698-b7e0-c8df1f4cc4b3",
     "regions": {
      "2bee6e65-c9c0-4cb8-a780-69af99fb3245": {
       "attrs": {
        "height": 0.8,
        "width": 0.8,
        "x": 0.1,
        "y": 0.1
       },
       "content": {
        "cell": "4fdbbcdb-22cf-470f-94ea-759ec7793dc6",
        "part": "whole"
       },
       "id": "2bee6e65-c9c0-4cb8-a780-69af99fb3245"
      }
     }
    },
    "7c6b38b5-ba13-4fdd-8e61-c1704354e783": {
     "id": "7c6b38b5-ba13-4fdd-8e61-c1704354e783",
     "prev": "79397f1d-5670-4650-bac6-8c57b03ad7f4",
     "regions": {
      "6e1cd95d-db5d-4b9b-8cd0-92bc00e75431": {
       "attrs": {
        "height": 0.8,
        "width": 0.8,
        "x": 0.1,
        "y": 0.1
       },
       "content": {
        "cell": "b841ea27-3be6-4129-a415-e8c500672d48",
        "part": "whole"
       },
       "id": "6e1cd95d-db5d-4b9b-8cd0-92bc00e75431"
      }
     }
    },
    "95be2984-8c21-4609-8f93-2eb1ae2a77eb": {
     "id": "95be2984-8c21-4609-8f93-2eb1ae2a77eb",
     "prev": "be1ce8c2-bac8-458c-b254-beba26ba7777",
     "regions": {
      "962643e9-7a8f-4f4c-b58f-7223616020f2": {
       "attrs": {
        "height": 0.8,
        "width": 0.8,
        "x": 0.1,
        "y": 0.1
       },
       "content": {
        "cell": "3f334ce3-68b9-493c-9fc7-4fc849d775ef",
        "part": "whole"
       },
       "id": "962643e9-7a8f-4f4c-b58f-7223616020f2"
      },
      "ec42fa1f-79ad-49c4-9b52-e3505135a10b": {
       "attrs": {
        "height": 0.4,
        "width": 0.8,
        "x": 0.1,
        "y": 0.5
       },
       "content": {
        "cell": "ae6de766-0050-497e-a5cc-376dc75b47c7",
        "part": "whole"
       },
       "id": "ec42fa1f-79ad-49c4-9b52-e3505135a10b"
      },
      "f5f47762-e7c3-4ce9-a0ab-9245545f036c": {
       "attrs": {
        "height": 0.4,
        "width": 0.8,
        "x": 0.1,
        "y": 0.5
       },
       "content": {
        "cell": "593c1509-e334-4e35-bb7b-b092d877868e",
        "part": "whole"
       },
       "id": "f5f47762-e7c3-4ce9-a0ab-9245545f036c"
      }
     }
    },
    "b5b375b2-9fa1-402a-a175-e5799d54368d": {
     "id": "b5b375b2-9fa1-402a-a175-e5799d54368d",
     "prev": "95be2984-8c21-4609-8f93-2eb1ae2a77eb",
     "regions": {
      "e8c8ea97-e8f8-47b3-8ce0-ab833dd79516": {
       "attrs": {
        "height": 0.8,
        "width": 0.8,
        "x": 0.1,
        "y": 0.1
       },
       "content": {
        "cell": "4c7a47ac-5fab-4e38-b544-a4cb5af10e8d",
        "part": "whole"
       },
       "id": "e8c8ea97-e8f8-47b3-8ce0-ab833dd79516"
      }
     }
    },
    "be1ce8c2-bac8-458c-b254-beba26ba7777": {
     "id": "be1ce8c2-bac8-458c-b254-beba26ba7777",
     "prev": "27deb24b-5c11-48b6-aaf6-11d7ecb738af",
     "regions": {
      "f622943c-b486-4bae-b66b-76552eb11af4": {
       "attrs": {
        "height": 0.8,
        "width": 0.8,
        "x": 0.1,
        "y": 0.1
       },
       "content": {
        "cell": "001e6265-06ef-4b64-b0d4-55fcdaf69946",
        "part": "whole"
       },
       "id": "f622943c-b486-4bae-b66b-76552eb11af4"
      }
     }
    },
    "ca93be77-9faf-4b43-82bb-747289f7b0c1": {
     "id": "ca93be77-9faf-4b43-82bb-747289f7b0c1",
     "prev": "7c6b38b5-ba13-4fdd-8e61-c1704354e783",
     "regions": {
      "37ab16d7-4140-431a-b67a-4cd9b73a6a81": {
       "attrs": {
        "height": 0.8,
        "width": 0.8,
        "x": 0.1,
        "y": 0.1
       },
       "content": {
        "cell": "2fbcecc6-eaab-49c9-ba90-d0450892fbff",
        "part": "whole"
       },
       "id": "37ab16d7-4140-431a-b67a-4cd9b73a6a81"
      }
     }
    },
    "dbd67d0b-a6fb-4698-b7e0-c8df1f4cc4b3": {
     "id": "dbd67d0b-a6fb-4698-b7e0-c8df1f4cc4b3",
     "prev": "11a2a105-4dc9-4d54-a82f-2dbc30c9e2ea",
     "regions": {
      "b1d994bb-ae9f-46d2-af0b-80e9db5a2ea3": {
       "attrs": {
        "height": 0.8,
        "width": 0.8,
        "x": 0.1,
        "y": 0.1
       },
       "content": {
        "cell": "7b65847e-529c-4742-8751-be1516484e74",
        "part": "whole"
       },
       "id": "b1d994bb-ae9f-46d2-af0b-80e9db5a2ea3"
      }
     }
    }
   },
   "themes": {}
  }
 },
 "nbformat": 4,
 "nbformat_minor": 1
}
